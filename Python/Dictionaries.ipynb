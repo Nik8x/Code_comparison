{
  "nbformat": 4,
  "nbformat_minor": 0,
  "metadata": {
    "colab": {
      "name": "Dictionaries.ipynb",
      "version": "0.3.2",
      "provenance": [],
      "collapsed_sections": [],
      "include_colab_link": true
    },
    "kernelspec": {
      "name": "python3",
      "display_name": "Python 3"
    }
  },
  "cells": [
    {
      "cell_type": "markdown",
      "metadata": {
        "id": "view-in-github",
        "colab_type": "text"
      },
      "source": [
        "<a href=\"https://colab.research.google.com/github/Nik8x/Code_comparison/blob/master/Python/Dictionaries.ipynb\" target=\"_parent\"><img src=\"https://colab.research.google.com/assets/colab-badge.svg\" alt=\"Open In Colab\"/></a>"
      ]
    },
    {
      "cell_type": "markdown",
      "metadata": {
        "id": "vFq-0KoTHBKp",
        "colab_type": "text"
      },
      "source": [
        "Dictionaries and lists share the following characteristics:\n",
        "\n",
        "1. Both are mutable.\n",
        "\n",
        "2. Both are dynamic. They can grow and shrink as needed.\n",
        "\n",
        "3. Both can be nested. A list can contain another list. A dictionary can contain another dictionary. A dictionary can also contain a list, and vice versa.\n",
        "\n",
        "Dictionaries differ from lists primarily in how elements are accessed:\n",
        "\n",
        "1. List elements are accessed by their position in the list, via indexing.\n",
        "\n",
        "2. Dictionary elements are accessed via keys."
      ]
    },
    {
      "cell_type": "markdown",
      "metadata": {
        "id": "mtSry9pPHjFY",
        "colab_type": "text"
      },
      "source": [
        "Dictionaries are Python’s implementation of a data structure that is more generally known as an associative array. A dictionary consists of a collection of key-value pairs. Each key-value pair maps the key to its associated value.\n",
        "\n",
        "You can define a dictionary by enclosing a comma-separated list of key-value pairs in curly braces ({}). A colon (:) separates each key from its associated value"
      ]
    },
    {
      "cell_type": "code",
      "metadata": {
        "id": "T2kYIkGfHitS",
        "colab_type": "code",
        "colab": {}
      },
      "source": [
        "# d = {\n",
        "#     <key>: <value>,\n",
        "#     <key>: <value>,\n",
        "#       .\n",
        "#       .\n",
        "#       .\n",
        "#     <key>: <value>\n",
        "# }\n",
        "\n",
        "# or\n",
        "\n",
        "# d = dict([\n",
        "#     (<key>, <value>),\n",
        "#     (<key>, <value),\n",
        "#       .\n",
        "#       .\n",
        "#       .\n",
        "#     (<key>, <value>)\n",
        "# ])"
      ],
      "execution_count": 0,
      "outputs": []
    },
    {
      "cell_type": "code",
      "metadata": {
        "id": "8scVFcY6HbAT",
        "colab_type": "code",
        "colab": {}
      },
      "source": [
        "pm  = {'Mercury' : 0,\n",
        "      'Venus' : 0,\n",
        "      'Earth' : 1,\n",
        "      'Mars' : 2,\n",
        "      'Jupiter' : 68,\n",
        "      'Saturday' : 64}\n",
        "\n",
        "## or\n",
        "\n",
        "pm  = dict([\n",
        "    ('Mercury', 0),\n",
        "    ('Venus', 0),\n",
        "    ('Earth', 1),\n",
        "    ('Mars', 2),\n",
        "    ('Jupiter', 68),\n",
        "    ('Saturn', 64)\n",
        "])\n",
        "\n",
        "## or\n",
        "\n",
        "pm  = dict(\n",
        "    Mercury = 0,\n",
        "    Venus = 0,\n",
        "    Earth = 1,\n",
        "    Mars = 2,\n",
        "    Jupiter = 68,\n",
        "    Saturn =  64\n",
        ")"
      ],
      "execution_count": 0,
      "outputs": []
    },
    {
      "cell_type": "code",
      "metadata": {
        "id": "NY8Db-lEL82J",
        "colab_type": "code",
        "outputId": "5165a102-f788-41d2-b6e3-6feaebba83bf",
        "colab": {
          "base_uri": "https://localhost:8080/",
          "height": 52
        }
      },
      "source": [
        "print(type(pm))\n",
        "pm"
      ],
      "execution_count": 0,
      "outputs": [
        {
          "output_type": "stream",
          "text": [
            "<class 'dict'>\n"
          ],
          "name": "stdout"
        },
        {
          "output_type": "execute_result",
          "data": {
            "text/plain": [
              "{'Earth': 1, 'Jupiter': 68, 'Mars': 2, 'Mercury': 0, 'Saturn': 64, 'Venus': 0}"
            ]
          },
          "metadata": {
            "tags": []
          },
          "execution_count": 37
        }
      ]
    },
    {
      "cell_type": "code",
      "metadata": {
        "id": "qCSIql26N_Ke",
        "colab_type": "code",
        "outputId": "81876d05-b44d-4e93-b80b-dc128deea18b",
        "colab": {
          "base_uri": "https://localhost:8080/",
          "height": 35
        }
      },
      "source": [
        "print(\"The moons of mars are:\", pm['Mars'])"
      ],
      "execution_count": 0,
      "outputs": [
        {
          "output_type": "stream",
          "text": [
            "The moons of mars are: 2\n"
          ],
          "name": "stdout"
        }
      ]
    },
    {
      "cell_type": "code",
      "metadata": {
        "id": "NrAeipFEL-q8",
        "colab_type": "code",
        "outputId": "63540ecd-9004-409a-ac80-e584656c03e7",
        "colab": {
          "base_uri": "https://localhost:8080/",
          "height": 204
        }
      },
      "source": [
        "pm[0]\n",
        "\n",
        "# Dictionary elements are not accessed by numerical index"
      ],
      "execution_count": 0,
      "outputs": [
        {
          "output_type": "error",
          "ename": "KeyError",
          "evalue": "ignored",
          "traceback": [
            "\u001b[0;31m---------------------------------------------------------------------------\u001b[0m",
            "\u001b[0;31mKeyError\u001b[0m                                  Traceback (most recent call last)",
            "\u001b[0;32m<ipython-input-14-77ebb6841c74>\u001b[0m in \u001b[0;36m<module>\u001b[0;34m()\u001b[0m\n\u001b[0;32m----> 1\u001b[0;31m \u001b[0mpm\u001b[0m\u001b[0;34m[\u001b[0m\u001b[0;36m0\u001b[0m\u001b[0;34m]\u001b[0m\u001b[0;34m\u001b[0m\u001b[0;34m\u001b[0m\u001b[0m\n\u001b[0m\u001b[1;32m      2\u001b[0m \u001b[0;34m\u001b[0m\u001b[0m\n\u001b[1;32m      3\u001b[0m \u001b[0;31m# Dictionary elements are not accessed by numerical index\u001b[0m\u001b[0;34m\u001b[0m\u001b[0;34m\u001b[0m\u001b[0;34m\u001b[0m\u001b[0m\n",
            "\u001b[0;31mKeyError\u001b[0m: 0"
          ]
        }
      ]
    },
    {
      "cell_type": "code",
      "metadata": {
        "id": "saafYyP8Ohfy",
        "colab_type": "code",
        "outputId": "f63d9eae-e4ba-4ebf-b98c-b2a60756e344",
        "colab": {
          "base_uri": "https://localhost:8080/",
          "height": 35
        }
      },
      "source": [
        "pm['Mars'], pm['Jupiter']  # A value is retrieved from a dictionary by specifying its corresponding key in square brackets ([])"
      ],
      "execution_count": 0,
      "outputs": [
        {
          "output_type": "execute_result",
          "data": {
            "text/plain": [
              "(2, 68)"
            ]
          },
          "metadata": {
            "tags": []
          },
          "execution_count": 40
        }
      ]
    },
    {
      "cell_type": "code",
      "metadata": {
        "id": "81i40K-dOzn9",
        "colab_type": "code",
        "outputId": "7208c982-1e2b-43e4-834c-e2a3c9808ce4",
        "colab": {
          "base_uri": "https://localhost:8080/",
          "height": 168
        }
      },
      "source": [
        "pm['Pluto']  # if you refer to a key that is not in the dictionary, Python raises an error"
      ],
      "execution_count": 0,
      "outputs": [
        {
          "output_type": "error",
          "ename": "KeyError",
          "evalue": "ignored",
          "traceback": [
            "\u001b[0;31m---------------------------------------------------------------------------\u001b[0m",
            "\u001b[0;31mKeyError\u001b[0m                                  Traceback (most recent call last)",
            "\u001b[0;32m<ipython-input-17-1cbc9d332c53>\u001b[0m in \u001b[0;36m<module>\u001b[0;34m()\u001b[0m\n\u001b[0;32m----> 1\u001b[0;31m \u001b[0mpm\u001b[0m\u001b[0;34m[\u001b[0m\u001b[0;34m'Pluto'\u001b[0m\u001b[0;34m]\u001b[0m\u001b[0;34m\u001b[0m\u001b[0;34m\u001b[0m\u001b[0m\n\u001b[0m",
            "\u001b[0;31mKeyError\u001b[0m: 'Pluto'"
          ]
        }
      ]
    },
    {
      "cell_type": "code",
      "metadata": {
        "id": "1hvMv9psO3T8",
        "colab_type": "code",
        "colab": {}
      },
      "source": [
        "# Adding an entry to an existing dictionary is simply a matter of assigning a new key \n",
        "pm['Uranus'] = 20"
      ],
      "execution_count": 0,
      "outputs": []
    },
    {
      "cell_type": "code",
      "metadata": {
        "id": "Wp4WascwPhWj",
        "colab_type": "code",
        "outputId": "0d73e20a-183f-45ba-9a79-0c842c334380",
        "colab": {
          "base_uri": "https://localhost:8080/",
          "height": 35
        }
      },
      "source": [
        "pm"
      ],
      "execution_count": 0,
      "outputs": [
        {
          "output_type": "execute_result",
          "data": {
            "text/plain": [
              "{'Ear': 1, 'Jup': 68, 'Mar': 2, 'Mer': 0, 'Sat': 64, 'Uranus': 20, 'Ven': 0}"
            ]
          },
          "metadata": {
            "tags": []
          },
          "execution_count": 19
        }
      ]
    },
    {
      "cell_type": "code",
      "metadata": {
        "id": "W86vTFBFPh-0",
        "colab_type": "code",
        "colab": {}
      },
      "source": [
        "# If you want to update an entry, you can just assign a new value to an existing key\n",
        "pm['Jupiter'] = 72"
      ],
      "execution_count": 0,
      "outputs": []
    },
    {
      "cell_type": "code",
      "metadata": {
        "id": "Ys_RMB7bQSnv",
        "colab_type": "code",
        "outputId": "d58a75db-9e7c-45fe-b64f-1b9263b95bfc",
        "colab": {
          "base_uri": "https://localhost:8080/",
          "height": 35
        }
      },
      "source": [
        "# To delete an entry, use the del statement, specifying the key to delete\n",
        "del pm['Uranus']\n",
        "pm"
      ],
      "execution_count": 0,
      "outputs": [
        {
          "output_type": "execute_result",
          "data": {
            "text/plain": [
              "{'Ear': 1, 'Jup': 72, 'Mar': 2, 'Mer': 0, 'Sat': 64, 'Ven': 0}"
            ]
          },
          "metadata": {
            "tags": []
          },
          "execution_count": 21
        }
      ]
    },
    {
      "cell_type": "code",
      "metadata": {
        "id": "IYFSMPsPR3l8",
        "colab_type": "code",
        "outputId": "ee7785ff-406e-4250-94c6-4228e4f9ae6f",
        "colab": {
          "base_uri": "https://localhost:8080/",
          "height": 52
        }
      },
      "source": [
        "# you can use integers\n",
        "d = {0: 'a', 1: 'b', 2: 'c', 3: 'd'}\n",
        "\n",
        "print(d[0])\n",
        "print(d[1])"
      ],
      "execution_count": 0,
      "outputs": [
        {
          "output_type": "stream",
          "text": [
            "a\n",
            "b\n"
          ],
          "name": "stdout"
        }
      ]
    },
    {
      "cell_type": "code",
      "metadata": {
        "id": "sJDInQjMUK0T",
        "colab_type": "code",
        "outputId": "51e969ca-c1e3-4334-fd9b-60efb5052c94",
        "colab": {
          "base_uri": "https://localhost:8080/",
          "height": 168
        }
      },
      "source": [
        "# you can’t treat a dictionary like a list\n",
        "d[-1]"
      ],
      "execution_count": 0,
      "outputs": [
        {
          "output_type": "error",
          "ename": "KeyError",
          "evalue": "ignored",
          "traceback": [
            "\u001b[0;31m---------------------------------------------------------------------------\u001b[0m",
            "\u001b[0;31mKeyError\u001b[0m                                  Traceback (most recent call last)",
            "\u001b[0;32m<ipython-input-23-1bab3c6dc314>\u001b[0m in \u001b[0;36m<module>\u001b[0;34m()\u001b[0m\n\u001b[0;32m----> 1\u001b[0;31m \u001b[0md\u001b[0m\u001b[0;34m[\u001b[0m\u001b[0;34m-\u001b[0m\u001b[0;36m1\u001b[0m\u001b[0;34m]\u001b[0m\u001b[0;34m\u001b[0m\u001b[0;34m\u001b[0m\u001b[0m\n\u001b[0m",
            "\u001b[0;31mKeyError\u001b[0m: -1"
          ]
        }
      ]
    },
    {
      "cell_type": "code",
      "metadata": {
        "id": "iddMPg2eUV9O",
        "colab_type": "code",
        "outputId": "c8517a64-8fc3-49ef-fa12-81d60bff8f5b",
        "colab": {
          "base_uri": "https://localhost:8080/",
          "height": 168
        }
      },
      "source": [
        "d[0:2]"
      ],
      "execution_count": 0,
      "outputs": [
        {
          "output_type": "error",
          "ename": "TypeError",
          "evalue": "ignored",
          "traceback": [
            "\u001b[0;31m---------------------------------------------------------------------------\u001b[0m",
            "\u001b[0;31mTypeError\u001b[0m                                 Traceback (most recent call last)",
            "\u001b[0;32m<ipython-input-24-6c29bbc86102>\u001b[0m in \u001b[0;36m<module>\u001b[0;34m()\u001b[0m\n\u001b[0;32m----> 1\u001b[0;31m \u001b[0md\u001b[0m\u001b[0;34m[\u001b[0m\u001b[0;36m0\u001b[0m\u001b[0;34m:\u001b[0m\u001b[0;36m2\u001b[0m\u001b[0;34m]\u001b[0m\u001b[0;34m\u001b[0m\u001b[0;34m\u001b[0m\u001b[0m\n\u001b[0m",
            "\u001b[0;31mTypeError\u001b[0m: unhashable type: 'slice'"
          ]
        }
      ]
    },
    {
      "cell_type": "code",
      "metadata": {
        "id": "AMcwPtu5UXp0",
        "colab_type": "code",
        "outputId": "d6b3a06d-d37f-44f5-dc04-b661dfdb2495",
        "colab": {
          "base_uri": "https://localhost:8080/",
          "height": 168
        }
      },
      "source": [
        "d.append('e')"
      ],
      "execution_count": 0,
      "outputs": [
        {
          "output_type": "error",
          "ename": "AttributeError",
          "evalue": "ignored",
          "traceback": [
            "\u001b[0;31m---------------------------------------------------------------------------\u001b[0m",
            "\u001b[0;31mAttributeError\u001b[0m                            Traceback (most recent call last)",
            "\u001b[0;32m<ipython-input-25-10129ea6570f>\u001b[0m in \u001b[0;36m<module>\u001b[0;34m()\u001b[0m\n\u001b[0;32m----> 1\u001b[0;31m \u001b[0md\u001b[0m\u001b[0;34m.\u001b[0m\u001b[0mappend\u001b[0m\u001b[0;34m(\u001b[0m\u001b[0;34m'e'\u001b[0m\u001b[0;34m)\u001b[0m\u001b[0;34m\u001b[0m\u001b[0;34m\u001b[0m\u001b[0m\n\u001b[0m",
            "\u001b[0;31mAttributeError\u001b[0m: 'dict' object has no attribute 'append'"
          ]
        }
      ]
    },
    {
      "cell_type": "code",
      "metadata": {
        "id": "B0MoAAkZUZYx",
        "colab_type": "code",
        "colab": {}
      },
      "source": [
        "# You can start by creating an empty dictionary, which is specified by empty curly braces. \n",
        "# Then you can add new keys and values one at a time"
      ],
      "execution_count": 0,
      "outputs": []
    },
    {
      "cell_type": "code",
      "metadata": {
        "id": "LwFXs8iGVMYI",
        "colab_type": "code",
        "outputId": "ce88f2cb-db1b-4e6a-cdaa-38c455890630",
        "colab": {
          "base_uri": "https://localhost:8080/",
          "height": 124
        }
      },
      "source": [
        "person = {}\n",
        "\n",
        "person['fname'] = 'Joe'\n",
        "person['lname'] = 'Fonebone'\n",
        "person['age'] = 51\n",
        "person['spouse'] = 'Edna'\n",
        "person['children'] = ['Ralph', 'Betty', 'Joey']\n",
        "person['pets'] = {'dog': 'Fido', 'cat': 'Sox'}\n",
        "\n",
        "person"
      ],
      "execution_count": 0,
      "outputs": [
        {
          "output_type": "execute_result",
          "data": {
            "text/plain": [
              "{'age': 51,\n",
              " 'children': ['Ralph', 'Betty', 'Joey'],\n",
              " 'fname': 'Joe',\n",
              " 'lname': 'Fonebone',\n",
              " 'pets': {'cat': 'Sox', 'dog': 'Fido'},\n",
              " 'spouse': 'Edna'}"
            ]
          },
          "metadata": {
            "tags": []
          },
          "execution_count": 27
        }
      ]
    },
    {
      "cell_type": "code",
      "metadata": {
        "id": "RECUGBhYVXYA",
        "colab_type": "code",
        "outputId": "0aab0791-9467-461f-aae8-3e08a3ad2776",
        "colab": {
          "base_uri": "https://localhost:8080/",
          "height": 70
        }
      },
      "source": [
        "print(person['fname'])\n",
        "print(person['age'])\n",
        "print(person['children'])"
      ],
      "execution_count": 0,
      "outputs": [
        {
          "output_type": "stream",
          "text": [
            "Joe\n",
            "51\n",
            "['Ralph', 'Betty', 'Joey']\n"
          ],
          "name": "stdout"
        }
      ]
    },
    {
      "cell_type": "code",
      "metadata": {
        "id": "RPy1H-zFVimw",
        "colab_type": "code",
        "outputId": "3bed29f6-41ee-4fc3-c32d-e37ad5bbf1af",
        "colab": {
          "base_uri": "https://localhost:8080/",
          "height": 35
        }
      },
      "source": [
        "person['children'][-1]"
      ],
      "execution_count": 0,
      "outputs": [
        {
          "output_type": "execute_result",
          "data": {
            "text/plain": [
              "'Joey'"
            ]
          },
          "metadata": {
            "tags": []
          },
          "execution_count": 29
        }
      ]
    },
    {
      "cell_type": "code",
      "metadata": {
        "id": "1E-ZXLw4Vlrp",
        "colab_type": "code",
        "outputId": "d3a56bde-fdb4-43df-a45e-822222e24218",
        "colab": {
          "base_uri": "https://localhost:8080/",
          "height": 35
        }
      },
      "source": [
        "person['pets']['cat']"
      ],
      "execution_count": 0,
      "outputs": [
        {
          "output_type": "execute_result",
          "data": {
            "text/plain": [
              "'Sox'"
            ]
          },
          "metadata": {
            "tags": []
          },
          "execution_count": 30
        }
      ]
    },
    {
      "cell_type": "code",
      "metadata": {
        "id": "fMcULcSDVoxU",
        "colab_type": "code",
        "outputId": "6902b56e-5c8e-4403-cbab-021cb8ec7707",
        "colab": {
          "base_uri": "https://localhost:8080/",
          "height": 35
        }
      },
      "source": [
        "# Just as the values in a dictionary don’t need to be of the same type, the keys don’t either\n",
        "a = {42: 'aaa', 2.78: 'bbb', True: 'ccc'}\n",
        "a"
      ],
      "execution_count": 0,
      "outputs": [
        {
          "output_type": "execute_result",
          "data": {
            "text/plain": [
              "{True: 'ccc', 2.78: 'bbb', 42: 'aaa'}"
            ]
          },
          "metadata": {
            "tags": []
          },
          "execution_count": 31
        }
      ]
    },
    {
      "cell_type": "code",
      "metadata": {
        "id": "p_NOnlGkWAOG",
        "colab_type": "code",
        "outputId": "3582fcf9-c6ac-4e05-f2c4-ba2a1bc1ab58",
        "colab": {
          "base_uri": "https://localhost:8080/",
          "height": 35
        }
      },
      "source": [
        "print(a[42], a[2.78], a[True])"
      ],
      "execution_count": 0,
      "outputs": [
        {
          "output_type": "stream",
          "text": [
            "aaa bbb ccc\n"
          ],
          "name": "stdout"
        }
      ]
    },
    {
      "cell_type": "code",
      "metadata": {
        "id": "krCi7zgEWH1n",
        "colab_type": "code",
        "outputId": "f9a26a48-a92f-408f-ab82-ea41bcab6726",
        "colab": {
          "base_uri": "https://localhost:8080/",
          "height": 35
        }
      },
      "source": [
        "d = {0: 'a', 1: 'a', 2: 'a', 3: 'a'}\n",
        "d"
      ],
      "execution_count": 0,
      "outputs": [
        {
          "output_type": "execute_result",
          "data": {
            "text/plain": [
              "{0: 'a', 1: 'a', 2: 'a', 3: 'a'}"
            ]
          },
          "metadata": {
            "tags": []
          },
          "execution_count": 33
        }
      ]
    },
    {
      "cell_type": "code",
      "metadata": {
        "id": "O9k-AkogWz9d",
        "colab_type": "code",
        "outputId": "8fcf88f2-d549-4f89-df39-6d34771bd989",
        "colab": {
          "base_uri": "https://localhost:8080/",
          "height": 35
        }
      },
      "source": [
        "d[0] == d[1] == d[2]"
      ],
      "execution_count": 0,
      "outputs": [
        {
          "output_type": "execute_result",
          "data": {
            "text/plain": [
              "True"
            ]
          },
          "metadata": {
            "tags": []
          },
          "execution_count": 34
        }
      ]
    },
    {
      "cell_type": "code",
      "metadata": {
        "id": "WzjCyZ5jW3wD",
        "colab_type": "code",
        "outputId": "b4fb7719-8eda-4250-cc2b-805ce92ed390",
        "colab": {
          "base_uri": "https://localhost:8080/",
          "height": 35
        }
      },
      "source": [
        "# the in and not in operators return True or False according to whether the specified operand occurs as a key in the dictionary\n",
        "'Mars' in pm, 'Pluto' not in pm, 'Cucumber' in pm"
      ],
      "execution_count": 0,
      "outputs": [
        {
          "output_type": "execute_result",
          "data": {
            "text/plain": [
              "(True, True, False)"
            ]
          },
          "metadata": {
            "tags": []
          },
          "execution_count": 43
        }
      ]
    },
    {
      "cell_type": "code",
      "metadata": {
        "id": "NoK94FJBXUEj",
        "colab_type": "code",
        "colab": {}
      },
      "source": [
        ""
      ],
      "execution_count": 0,
      "outputs": []
    }
  ]
}