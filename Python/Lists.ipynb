{
  "nbformat": 4,
  "nbformat_minor": 0,
  "metadata": {
    "colab": {
      "name": "3_Lists.ipynb",
      "version": "0.3.2",
      "provenance": [],
      "collapsed_sections": [],
      "include_colab_link": true
    },
    "kernelspec": {
      "display_name": "Python 3",
      "language": "python",
      "name": "python3"
    }
  },
  "cells": [
    {
      "cell_type": "markdown",
      "metadata": {
        "id": "view-in-github",
        "colab_type": "text"
      },
      "source": [
        "<a href=\"https://colab.research.google.com/github/Nik8x/Code_comparison/blob/master/Python/Lists.ipynb\" target=\"_parent\"><img src=\"https://colab.research.google.com/assets/colab-badge.svg\" alt=\"Open In Colab\"/></a>"
      ]
    },
    {
      "cell_type": "code",
      "metadata": {
        "id": "Q8OgJjHjynhi",
        "colab_type": "code",
        "outputId": "c2e1e19b-34c7-4a4c-a6b1-0b0ac294babd",
        "colab": {
          "base_uri": "https://localhost:8080/",
          "height": 134
        }
      },
      "source": [
        "nums = list(range(5))     # range is a built-in function that creates a list of integers\n",
        "print(nums)               # Prints \"[0, 1, 2, 3, 4]\"\n",
        "print(nums[2:4])          # Get a slice from index 2 to 4 (exclusive); prints \"[2, 3]\"\n",
        "print(nums[2:])           # Get a slice from index 2 to the end; prints \"[2, 3, 4]\"\n",
        "print(nums[:2])           # Get a slice from the start to index 2 (exclusive); prints \"[0, 1]\"\n",
        "print(nums[:])            # Get a slice of the whole list; prints \"[0, 1, 2, 3, 4]\"\n",
        "print(nums[:-1])          # Slice indices can be negative; prints \"[0, 1, 2, 3]\"\n",
        "nums[2:4] = [8, 9]        # Assign a new sublist to a slice\n",
        "print(nums)               # Prints \"[0, 1, 8, 9, 4]\""
      ],
      "execution_count": 0,
      "outputs": [
        {
          "output_type": "stream",
          "text": [
            "[0, 1, 2, 3, 4]\n",
            "[2, 3]\n",
            "[2, 3, 4]\n",
            "[0, 1]\n",
            "[0, 1, 2, 3, 4]\n",
            "[0, 1, 2, 3]\n",
            "[0, 1, 8, 9, 4]\n"
          ],
          "name": "stdout"
        }
      ]
    },
    {
      "cell_type": "code",
      "metadata": {
        "id": "QocT8Cnno4EH",
        "colab_type": "code",
        "outputId": "a533d29f-ad06-4421-ef95-3cf0d80ad3d3",
        "colab": {}
      },
      "source": [
        "fruits = ['apple', 'mango', 'banana', 'orange', 'grapes']\n",
        "print(fruits)"
      ],
      "execution_count": 0,
      "outputs": [
        {
          "output_type": "stream",
          "text": [
            "['apple', 'mango', 'banana', 'orange', 'grapes']\n"
          ],
          "name": "stdout"
        }
      ]
    },
    {
      "cell_type": "code",
      "metadata": {
        "id": "hp81nmZeo4ES",
        "colab_type": "code",
        "outputId": "dc4b9dca-b65e-460b-b4d5-fd65883bd516",
        "colab": {}
      },
      "source": [
        "fruits[1], fruits[-4] # to start counting from end start with -1"
      ],
      "execution_count": 0,
      "outputs": [
        {
          "output_type": "execute_result",
          "data": {
            "text/plain": [
              "('mango', 'mango')"
            ]
          },
          "metadata": {
            "tags": []
          },
          "execution_count": 203
        }
      ]
    },
    {
      "cell_type": "code",
      "metadata": {
        "id": "6xmqqMOKo4EZ",
        "colab_type": "code",
        "outputId": "09e20fbb-d9c0-428e-9e5e-a7952d0dce21",
        "colab": {}
      },
      "source": [
        "fruits[4], fruits[-1]"
      ],
      "execution_count": 0,
      "outputs": [
        {
          "output_type": "execute_result",
          "data": {
            "text/plain": [
              "('grapes', 'grapes')"
            ]
          },
          "metadata": {
            "tags": []
          },
          "execution_count": 202
        }
      ]
    },
    {
      "cell_type": "code",
      "metadata": {
        "id": "OXEtxtDLo4Ee",
        "colab_type": "code",
        "outputId": "a9d3a1d8-add7-4057-8e94-1e6f7a4dc6c8",
        "colab": {}
      },
      "source": [
        "fruits[4][1] # to print r in grapes in fruits list"
      ],
      "execution_count": 0,
      "outputs": [
        {
          "output_type": "execute_result",
          "data": {
            "text/plain": [
              "'r'"
            ]
          },
          "metadata": {
            "tags": []
          },
          "execution_count": 6
        }
      ]
    },
    {
      "cell_type": "code",
      "metadata": {
        "id": "W1sWet4Go4Ej",
        "colab_type": "code",
        "outputId": "d27e912e-9686-4b9c-ba7a-11deee7f8de5",
        "colab": {}
      },
      "source": [
        "fruits[1 : 3] # print slice from 1 poition till 3rd position not including 3rd poition content"
      ],
      "execution_count": 0,
      "outputs": [
        {
          "output_type": "execute_result",
          "data": {
            "text/plain": [
              "['mango', 'banana']"
            ]
          },
          "metadata": {
            "tags": []
          },
          "execution_count": 211
        }
      ]
    },
    {
      "cell_type": "code",
      "metadata": {
        "id": "pJpoExbEo4Ep",
        "colab_type": "code",
        "outputId": "913beb42-fe77-4b2e-c408-104ab0c0fa45",
        "colab": {}
      },
      "source": [
        "fruits[0 : 3]"
      ],
      "execution_count": 0,
      "outputs": [
        {
          "output_type": "execute_result",
          "data": {
            "text/plain": [
              "['apple', 'mango', 'banana']"
            ]
          },
          "metadata": {
            "tags": []
          },
          "execution_count": 213
        }
      ]
    },
    {
      "cell_type": "code",
      "metadata": {
        "id": "wozoJtDZo4Et",
        "colab_type": "code",
        "outputId": "c9dd12ed-9845-4564-e4d1-25d0e9192a32",
        "colab": {}
      },
      "source": [
        "fruits[0 : -1] # slicing till the last one, not including the last one"
      ],
      "execution_count": 0,
      "outputs": [
        {
          "output_type": "execute_result",
          "data": {
            "text/plain": [
              "['apple', 'mango', 'banana', 'orange']"
            ]
          },
          "metadata": {
            "tags": []
          },
          "execution_count": 221
        }
      ]
    },
    {
      "cell_type": "code",
      "metadata": {
        "id": "UBo5SWYRo4Ev",
        "colab_type": "code",
        "outputId": "c7ed72a4-fc04-4692-e6bc-0fab17732c39",
        "colab": {}
      },
      "source": [
        "fruits[1 : -1]"
      ],
      "execution_count": 0,
      "outputs": [
        {
          "output_type": "execute_result",
          "data": {
            "text/plain": [
              "['mango', 'banana', 'orange']"
            ]
          },
          "metadata": {
            "tags": []
          },
          "execution_count": 220
        }
      ]
    },
    {
      "cell_type": "code",
      "metadata": {
        "id": "3-HbVtLlo4E0",
        "colab_type": "code",
        "outputId": "caa76e1e-aa10-436d-c3ca-698d28249120",
        "colab": {}
      },
      "source": [
        "fruits[0::2] # jump using two ::\n",
        "# we are jumping two places"
      ],
      "execution_count": 0,
      "outputs": [
        {
          "output_type": "execute_result",
          "data": {
            "text/plain": [
              "['apple', 'banana', 'grapes']"
            ]
          },
          "metadata": {
            "tags": []
          },
          "execution_count": 214
        }
      ]
    },
    {
      "cell_type": "code",
      "metadata": {
        "id": "4VWQjkcto4E2",
        "colab_type": "code",
        "outputId": "26e46517-875d-411f-d56e-c03edb727677",
        "colab": {}
      },
      "source": [
        "fruits[0::4]"
      ],
      "execution_count": 0,
      "outputs": [
        {
          "output_type": "execute_result",
          "data": {
            "text/plain": [
              "['apple', 'grapes']"
            ]
          },
          "metadata": {
            "tags": []
          },
          "execution_count": 215
        }
      ]
    },
    {
      "cell_type": "code",
      "metadata": {
        "id": "NNs1dsrao4E4",
        "colab_type": "code",
        "outputId": "0a1b4ffd-f3a5-4f03-9704-550bf87f2cca",
        "colab": {}
      },
      "source": [
        "fruits[::-1] # invert the list"
      ],
      "execution_count": 0,
      "outputs": [
        {
          "output_type": "execute_result",
          "data": {
            "text/plain": [
              "['grapes', 'orange', 'banana', 'mango', 'apple']"
            ]
          },
          "metadata": {
            "tags": []
          },
          "execution_count": 218
        }
      ]
    },
    {
      "cell_type": "code",
      "metadata": {
        "id": "kKjbffEGo4E6",
        "colab_type": "code",
        "outputId": "406fcbb9-eadf-4b48-fdac-5d066cbd6972",
        "colab": {}
      },
      "source": [
        "mixed_list = [1, 'one', 2, 'two', 3, 'three', 4.5, 'four point five', True] \n",
        "# combining strings and int and floats and booleans\n",
        "mixed_list"
      ],
      "execution_count": 0,
      "outputs": [
        {
          "output_type": "execute_result",
          "data": {
            "text/plain": [
              "[1, 'one', 2, 'two', 3, 'three', 4.5, 'four point five', True]"
            ]
          },
          "metadata": {
            "tags": []
          },
          "execution_count": 10
        }
      ]
    },
    {
      "cell_type": "code",
      "metadata": {
        "id": "HLncw3K0o4E9",
        "colab_type": "code",
        "outputId": "9070a89d-a90e-4555-d9f6-b41336d46f23",
        "colab": {}
      },
      "source": [
        "len(mixed_list) # to return the length of contents in list"
      ],
      "execution_count": 0,
      "outputs": [
        {
          "output_type": "execute_result",
          "data": {
            "text/plain": [
              "9"
            ]
          },
          "metadata": {
            "tags": []
          },
          "execution_count": 16
        }
      ]
    },
    {
      "cell_type": "code",
      "metadata": {
        "id": "1EXlXyGSo4FA",
        "colab_type": "code",
        "colab": {}
      },
      "source": [
        "# a list can take mixed data types"
      ],
      "execution_count": 0,
      "outputs": []
    },
    {
      "cell_type": "code",
      "metadata": {
        "id": "L_nXyoYco4FC",
        "colab_type": "code",
        "outputId": "700d9d1d-4cda-40c2-a9f1-be7a3613c7c6",
        "colab": {}
      },
      "source": [
        "type(mixed_list) # type with return type"
      ],
      "execution_count": 0,
      "outputs": [
        {
          "output_type": "execute_result",
          "data": {
            "text/plain": [
              "list"
            ]
          },
          "metadata": {
            "tags": []
          },
          "execution_count": 11
        }
      ]
    },
    {
      "cell_type": "code",
      "metadata": {
        "id": "AKQ2yYNFo4FF",
        "colab_type": "code",
        "outputId": "9dc2f374-3ac9-4bbf-cbf9-18f38fdabd2c",
        "colab": {}
      },
      "source": [
        "type(mixed_list[2]), type(mixed_list[1]), type(mixed_list[6]), type(mixed_list[8])"
      ],
      "execution_count": 0,
      "outputs": [
        {
          "output_type": "execute_result",
          "data": {
            "text/plain": [
              "(int, str, float, bool)"
            ]
          },
          "metadata": {
            "tags": []
          },
          "execution_count": 17
        }
      ]
    },
    {
      "cell_type": "code",
      "metadata": {
        "id": "PoE2glogo4FH",
        "colab_type": "code",
        "outputId": "d4df67c3-e4c7-4d6e-f2ac-06c58f47e0fa",
        "colab": {}
      },
      "source": [
        "len(mixed_list[7]), len(mixed_list[5]) # len will return the lenth of string here"
      ],
      "execution_count": 0,
      "outputs": [
        {
          "output_type": "execute_result",
          "data": {
            "text/plain": [
              "(15, 5)"
            ]
          },
          "metadata": {
            "tags": []
          },
          "execution_count": 19
        }
      ]
    },
    {
      "cell_type": "code",
      "metadata": {
        "id": "-kpS09X_o4FK",
        "colab_type": "code",
        "outputId": "9d5808ad-c55b-4a55-928d-159dc7e5da00",
        "colab": {}
      },
      "source": [
        "len(mixed_list[6])"
      ],
      "execution_count": 0,
      "outputs": [
        {
          "output_type": "error",
          "ename": "TypeError",
          "evalue": "object of type 'float' has no len()",
          "traceback": [
            "\u001b[1;31m---------------------------------------------------------------------------\u001b[0m",
            "\u001b[1;31mTypeError\u001b[0m                                 Traceback (most recent call last)",
            "\u001b[1;32m<ipython-input-20-c18b7fed449b>\u001b[0m in \u001b[0;36m<module>\u001b[1;34m\u001b[0m\n\u001b[1;32m----> 1\u001b[1;33m \u001b[0mlen\u001b[0m\u001b[1;33m(\u001b[0m\u001b[0mmixed_list\u001b[0m\u001b[1;33m[\u001b[0m\u001b[1;36m6\u001b[0m\u001b[1;33m]\u001b[0m\u001b[1;33m)\u001b[0m\u001b[1;33m\u001b[0m\u001b[1;33m\u001b[0m\u001b[0m\n\u001b[0m",
            "\u001b[1;31mTypeError\u001b[0m: object of type 'float' has no len()"
          ]
        }
      ]
    },
    {
      "cell_type": "code",
      "metadata": {
        "id": "K1fdDQ_bo4FM",
        "colab_type": "code",
        "outputId": "cde457f7-15c5-4390-c56b-5754f8a19db7",
        "colab": {}
      },
      "source": [
        "len(mixed_list[0])"
      ],
      "execution_count": 0,
      "outputs": [
        {
          "output_type": "error",
          "ename": "TypeError",
          "evalue": "object of type 'int' has no len()",
          "traceback": [
            "\u001b[1;31m---------------------------------------------------------------------------\u001b[0m",
            "\u001b[1;31mTypeError\u001b[0m                                 Traceback (most recent call last)",
            "\u001b[1;32m<ipython-input-22-f5ae9c328341>\u001b[0m in \u001b[0;36m<module>\u001b[1;34m\u001b[0m\n\u001b[1;32m----> 1\u001b[1;33m \u001b[0mlen\u001b[0m\u001b[1;33m(\u001b[0m\u001b[0mmixed_list\u001b[0m\u001b[1;33m[\u001b[0m\u001b[1;36m0\u001b[0m\u001b[1;33m]\u001b[0m\u001b[1;33m)\u001b[0m\u001b[1;33m\u001b[0m\u001b[1;33m\u001b[0m\u001b[0m\n\u001b[0m",
            "\u001b[1;31mTypeError\u001b[0m: object of type 'int' has no len()"
          ]
        }
      ]
    },
    {
      "cell_type": "code",
      "metadata": {
        "id": "dmAGyTKoo4FR",
        "colab_type": "code",
        "outputId": "efd7a7d6-1af4-435f-92c6-a78ef9c200c9",
        "colab": {}
      },
      "source": [
        "len(mixed_list[8])"
      ],
      "execution_count": 0,
      "outputs": [
        {
          "output_type": "error",
          "ename": "TypeError",
          "evalue": "object of type 'bool' has no len()",
          "traceback": [
            "\u001b[1;31m---------------------------------------------------------------------------\u001b[0m",
            "\u001b[1;31mTypeError\u001b[0m                                 Traceback (most recent call last)",
            "\u001b[1;32m<ipython-input-24-c1cccbb35c8e>\u001b[0m in \u001b[0;36m<module>\u001b[1;34m\u001b[0m\n\u001b[1;32m----> 1\u001b[1;33m \u001b[0mlen\u001b[0m\u001b[1;33m(\u001b[0m\u001b[0mmixed_list\u001b[0m\u001b[1;33m[\u001b[0m\u001b[1;36m8\u001b[0m\u001b[1;33m]\u001b[0m\u001b[1;33m)\u001b[0m\u001b[1;33m\u001b[0m\u001b[1;33m\u001b[0m\u001b[0m\n\u001b[0m",
            "\u001b[1;31mTypeError\u001b[0m: object of type 'bool' has no len()"
          ]
        }
      ]
    },
    {
      "cell_type": "code",
      "metadata": {
        "id": "UsUxi3h7o4FV",
        "colab_type": "code",
        "colab": {}
      },
      "source": [
        "# object of type 'int', 'float', 'bool' has no len()"
      ],
      "execution_count": 0,
      "outputs": []
    },
    {
      "cell_type": "code",
      "metadata": {
        "id": "9ca32fPbo4FY",
        "colab_type": "code",
        "colab": {}
      },
      "source": [
        "fruits = ['apple', 'mango', 'banana', 'orange', 'grapes']\n",
        "vegetables = ['carrots', 'brocolli', 'spinach', 'cucumber']"
      ],
      "execution_count": 0,
      "outputs": []
    },
    {
      "cell_type": "code",
      "metadata": {
        "id": "OfFyZv57o4FZ",
        "colab_type": "code",
        "colab": {}
      },
      "source": [
        "# I want to combine fruits and vegetables in a list groceries"
      ],
      "execution_count": 0,
      "outputs": []
    },
    {
      "cell_type": "code",
      "metadata": {
        "id": "JhSQkMRAo4Fc",
        "colab_type": "code",
        "colab": {}
      },
      "source": [
        "groceries = fruits + vegetables"
      ],
      "execution_count": 0,
      "outputs": []
    },
    {
      "cell_type": "code",
      "metadata": {
        "id": "L1Qtk64ko4Fd",
        "colab_type": "code",
        "outputId": "4dd13bca-0429-4f85-ed9a-19177ffb9daf",
        "colab": {}
      },
      "source": [
        "groceries"
      ],
      "execution_count": 0,
      "outputs": [
        {
          "output_type": "execute_result",
          "data": {
            "text/plain": [
              "['apple',\n",
              " 'mango',\n",
              " 'banana',\n",
              " 'orange',\n",
              " 'grapes',\n",
              " 'carrots',\n",
              " 'brocolli',\n",
              " 'spinach',\n",
              " 'cucumber']"
            ]
          },
          "metadata": {
            "tags": []
          },
          "execution_count": 66
        }
      ]
    },
    {
      "cell_type": "code",
      "metadata": {
        "id": "FqXuNQMco4Fg",
        "colab_type": "code",
        "outputId": "e86a0c17-8240-4270-c6a6-f71261322323",
        "colab": {}
      },
      "source": [
        "groceries[5]"
      ],
      "execution_count": 0,
      "outputs": [
        {
          "output_type": "execute_result",
          "data": {
            "text/plain": [
              "'carrots'"
            ]
          },
          "metadata": {
            "tags": []
          },
          "execution_count": 72
        }
      ]
    },
    {
      "cell_type": "code",
      "metadata": {
        "id": "n9gKaculo4Fi",
        "colab_type": "code",
        "outputId": "f6480ec3-2dce-46ef-eb50-170b5d3f5419",
        "colab": {}
      },
      "source": [
        "fruits, vegetables"
      ],
      "execution_count": 0,
      "outputs": [
        {
          "output_type": "execute_result",
          "data": {
            "text/plain": [
              "(['apple', 'mango', 'banana', 'orange', 'grapes'],\n",
              " ['carrots', 'brocolli', 'spinach', 'cucumber'])"
            ]
          },
          "metadata": {
            "tags": []
          },
          "execution_count": 67
        }
      ]
    },
    {
      "cell_type": "code",
      "metadata": {
        "id": "3mzvfTa2o4Fm",
        "colab_type": "code",
        "colab": {}
      },
      "source": [
        "# let's see the function for list called append"
      ],
      "execution_count": 0,
      "outputs": []
    },
    {
      "cell_type": "code",
      "metadata": {
        "id": "aFnbNV0so4Fo",
        "colab_type": "code",
        "colab": {}
      },
      "source": [
        "fruits.append(vegetables)"
      ],
      "execution_count": 0,
      "outputs": []
    },
    {
      "cell_type": "code",
      "metadata": {
        "id": "4Faoehuho4Fq",
        "colab_type": "code",
        "outputId": "ab195fff-812e-4a48-9530-419c9e5be63c",
        "colab": {}
      },
      "source": [
        "fruits "
      ],
      "execution_count": 0,
      "outputs": [
        {
          "output_type": "execute_result",
          "data": {
            "text/plain": [
              "['apple',\n",
              " 'mango',\n",
              " 'banana',\n",
              " 'orange',\n",
              " 'grapes',\n",
              " ['carrots', 'brocolli', 'spinach', 'cucumber']]"
            ]
          },
          "metadata": {
            "tags": []
          },
          "execution_count": 70
        }
      ]
    },
    {
      "cell_type": "code",
      "metadata": {
        "id": "5LHBADNuo4Fs",
        "colab_type": "code",
        "outputId": "8082fbfa-be0c-4ba8-e9c7-8dc85ef0868c",
        "colab": {}
      },
      "source": [
        "fruits[5]"
      ],
      "execution_count": 0,
      "outputs": [
        {
          "output_type": "execute_result",
          "data": {
            "text/plain": [
              "['carrots', 'brocolli', 'spinach', 'cucumber']"
            ]
          },
          "metadata": {
            "tags": []
          },
          "execution_count": 71
        }
      ]
    },
    {
      "cell_type": "code",
      "metadata": {
        "id": "jJwFj2K9o4Fx",
        "colab_type": "code",
        "outputId": "8bc23694-5b3f-4530-b5cd-5ef290c29b93",
        "colab": {}
      },
      "source": [
        "vegetables"
      ],
      "execution_count": 0,
      "outputs": [
        {
          "output_type": "execute_result",
          "data": {
            "text/plain": [
              "['carrots', 'brocolli', 'spinach', 'cucumber']"
            ]
          },
          "metadata": {
            "tags": []
          },
          "execution_count": 46
        }
      ]
    },
    {
      "cell_type": "code",
      "metadata": {
        "id": "ZL2F7xz8o4Fv",
        "colab_type": "code",
        "colab": {}
      },
      "source": [
        "# confused? go down"
      ],
      "execution_count": 0,
      "outputs": []
    },
    {
      "cell_type": "code",
      "metadata": {
        "id": "q0yuC6o8o4Fy",
        "colab_type": "code",
        "colab": {}
      },
      "source": [
        "planets_t = [] # making an empty list 't = terrestrial'"
      ],
      "execution_count": 0,
      "outputs": []
    },
    {
      "cell_type": "code",
      "metadata": {
        "id": "s32R1yh9o4F1",
        "colab_type": "code",
        "outputId": "a6ea0d84-cc6d-4986-d0b3-1bf280abba4e",
        "colab": {}
      },
      "source": [
        "planets_t"
      ],
      "execution_count": 0,
      "outputs": [
        {
          "output_type": "execute_result",
          "data": {
            "text/plain": [
              "[]"
            ]
          },
          "metadata": {
            "tags": []
          },
          "execution_count": 110
        }
      ]
    },
    {
      "cell_type": "code",
      "metadata": {
        "id": "OxP1KoRyo4F2",
        "colab_type": "code",
        "colab": {}
      },
      "source": [
        "planets_t.append('mercury') # mercury is going to be added to the list "
      ],
      "execution_count": 0,
      "outputs": []
    },
    {
      "cell_type": "code",
      "metadata": {
        "id": "7xBWWyauo4F4",
        "colab_type": "code",
        "outputId": "eb3a7acd-abcd-4fa2-a589-1133e7d4b30c",
        "colab": {}
      },
      "source": [
        "planets_t"
      ],
      "execution_count": 0,
      "outputs": [
        {
          "output_type": "execute_result",
          "data": {
            "text/plain": [
              "['mercury']"
            ]
          },
          "metadata": {
            "tags": []
          },
          "execution_count": 112
        }
      ]
    },
    {
      "cell_type": "code",
      "metadata": {
        "id": "Msdvpjkfo4F8",
        "colab_type": "code",
        "colab": {}
      },
      "source": [
        "planets_t.append('venus') # adding venus to list planets in the end"
      ],
      "execution_count": 0,
      "outputs": []
    },
    {
      "cell_type": "code",
      "metadata": {
        "id": "TfF0p7Ddo4F_",
        "colab_type": "code",
        "outputId": "9eec4af4-0075-42ab-bd70-903b42a723bf",
        "colab": {}
      },
      "source": [
        "planets_t"
      ],
      "execution_count": 0,
      "outputs": [
        {
          "output_type": "execute_result",
          "data": {
            "text/plain": [
              "['mercury', 'venus']"
            ]
          },
          "metadata": {
            "tags": []
          },
          "execution_count": 114
        }
      ]
    },
    {
      "cell_type": "code",
      "metadata": {
        "id": "VWQs3Jo9o4GC",
        "colab_type": "code",
        "colab": {}
      },
      "source": [
        "planets_t.append('earth')"
      ],
      "execution_count": 0,
      "outputs": []
    },
    {
      "cell_type": "code",
      "metadata": {
        "id": "XuJEH-ENo4GF",
        "colab_type": "code",
        "outputId": "84eae3b7-7404-4999-a527-0a3cae0ca9a6",
        "colab": {}
      },
      "source": [
        "planets_t"
      ],
      "execution_count": 0,
      "outputs": [
        {
          "output_type": "execute_result",
          "data": {
            "text/plain": [
              "['mercury', 'venus', 'earth']"
            ]
          },
          "metadata": {
            "tags": []
          },
          "execution_count": 116
        }
      ]
    },
    {
      "cell_type": "code",
      "metadata": {
        "id": "8jRXvh4To4GI",
        "colab_type": "code",
        "colab": {}
      },
      "source": [
        "planets_t.append('mars')"
      ],
      "execution_count": 0,
      "outputs": []
    },
    {
      "cell_type": "code",
      "metadata": {
        "id": "URrIJSWAo4GM",
        "colab_type": "code",
        "outputId": "cc01fa66-032e-4644-dfe4-ed9533ebefb1",
        "colab": {}
      },
      "source": [
        "planets_t"
      ],
      "execution_count": 0,
      "outputs": [
        {
          "output_type": "execute_result",
          "data": {
            "text/plain": [
              "['mercury', 'venus', 'earth', 'mars']"
            ]
          },
          "metadata": {
            "tags": []
          },
          "execution_count": 118
        }
      ]
    },
    {
      "cell_type": "code",
      "metadata": {
        "id": "1LBhd1NBo4GO",
        "colab_type": "code",
        "colab": {}
      },
      "source": [
        "planets_g = [] # 'g = gas giants'"
      ],
      "execution_count": 0,
      "outputs": []
    },
    {
      "cell_type": "code",
      "metadata": {
        "id": "7xmc11Eio4GP",
        "colab_type": "code",
        "colab": {}
      },
      "source": [
        "planets_g.append('jupyter')"
      ],
      "execution_count": 0,
      "outputs": []
    },
    {
      "cell_type": "code",
      "metadata": {
        "id": "y2jJebsGo4GR",
        "colab_type": "code",
        "outputId": "c043e97b-02c0-4937-8a64-6487632ca89f",
        "colab": {}
      },
      "source": [
        "planets_g"
      ],
      "execution_count": 0,
      "outputs": [
        {
          "output_type": "execute_result",
          "data": {
            "text/plain": [
              "['jupyter']"
            ]
          },
          "metadata": {
            "tags": []
          },
          "execution_count": 121
        }
      ]
    },
    {
      "cell_type": "code",
      "metadata": {
        "id": "3MoVFeW-o4GW",
        "colab_type": "code",
        "colab": {}
      },
      "source": [
        "planets_g.append('saturn')"
      ],
      "execution_count": 0,
      "outputs": []
    },
    {
      "cell_type": "code",
      "metadata": {
        "id": "VxaVDPAQo4GY",
        "colab_type": "code",
        "outputId": "69fb70ff-45e5-4e0c-8462-2ee2c864690b",
        "colab": {}
      },
      "source": [
        "planets_g"
      ],
      "execution_count": 0,
      "outputs": [
        {
          "output_type": "execute_result",
          "data": {
            "text/plain": [
              "['jupyter', 'saturn']"
            ]
          },
          "metadata": {
            "tags": []
          },
          "execution_count": 123
        }
      ]
    },
    {
      "cell_type": "code",
      "metadata": {
        "id": "FsbcuUKto4GZ",
        "colab_type": "code",
        "colab": {}
      },
      "source": [
        "planets_i = [] # 'i = ice giants'"
      ],
      "execution_count": 0,
      "outputs": []
    },
    {
      "cell_type": "code",
      "metadata": {
        "id": "Xoq2J05bo4Ga",
        "colab_type": "code",
        "colab": {}
      },
      "source": [
        "planets_i.append('uranus')"
      ],
      "execution_count": 0,
      "outputs": []
    },
    {
      "cell_type": "code",
      "metadata": {
        "id": "iGW7hSERo4Gb",
        "colab_type": "code",
        "outputId": "0528b0ad-79d2-476d-90e8-7c9d826f6f66",
        "colab": {}
      },
      "source": [
        "planets_i"
      ],
      "execution_count": 0,
      "outputs": [
        {
          "output_type": "execute_result",
          "data": {
            "text/plain": [
              "['uranus']"
            ]
          },
          "metadata": {
            "tags": []
          },
          "execution_count": 126
        }
      ]
    },
    {
      "cell_type": "code",
      "metadata": {
        "id": "zbKotjPEo4Gd",
        "colab_type": "code",
        "colab": {}
      },
      "source": [
        "planets_i.append('neptune')"
      ],
      "execution_count": 0,
      "outputs": []
    },
    {
      "cell_type": "code",
      "metadata": {
        "id": "HtKn2TBYo4Ge",
        "colab_type": "code",
        "outputId": "41a60ce3-5ff2-4843-89f2-ee0d1dcb9400",
        "colab": {}
      },
      "source": [
        "planets_i"
      ],
      "execution_count": 0,
      "outputs": [
        {
          "output_type": "execute_result",
          "data": {
            "text/plain": [
              "['uranus', 'neptune']"
            ]
          },
          "metadata": {
            "tags": []
          },
          "execution_count": 128
        }
      ]
    },
    {
      "cell_type": "code",
      "metadata": {
        "id": "S_Umyl0no4Gg",
        "colab_type": "code",
        "outputId": "18691c49-2637-42f9-bc98-b2233f8991e8",
        "colab": {}
      },
      "source": [
        "print(planets_t)\n",
        "print(planets_g)\n",
        "print(planets_i)"
      ],
      "execution_count": 0,
      "outputs": [
        {
          "output_type": "stream",
          "text": [
            "['mercury', 'venus', 'earth', 'mars']\n",
            "['jupyter', 'saturn']\n",
            "['uranus', 'neptune']\n"
          ],
          "name": "stdout"
        }
      ]
    },
    {
      "cell_type": "code",
      "metadata": {
        "id": "V__ljBweo4Gh",
        "colab_type": "code",
        "outputId": "d43b19c6-5451-4950-cd17-0ff621084c2b",
        "colab": {}
      },
      "source": [
        "solar_system = planets_t + planets_g + planets_i\n",
        "solar_system"
      ],
      "execution_count": 0,
      "outputs": [
        {
          "output_type": "execute_result",
          "data": {
            "text/plain": [
              "['mercury', 'venus', 'earth', 'mars', 'jupyter', 'saturn', 'uranus', 'neptune']"
            ]
          },
          "metadata": {
            "tags": []
          },
          "execution_count": 130
        }
      ]
    },
    {
      "cell_type": "code",
      "metadata": {
        "id": "tbWEbc_Xo4Gj",
        "colab_type": "code",
        "colab": {}
      },
      "source": [
        "planets_t_1 = planets_t # putting the contents of planets_t into planets_t_!"
      ],
      "execution_count": 0,
      "outputs": []
    },
    {
      "cell_type": "code",
      "metadata": {
        "id": "XKFT7rmeo4Gl",
        "colab_type": "code",
        "outputId": "8176d1bd-a658-4128-a751-11f3e2bc7e14",
        "colab": {}
      },
      "source": [
        "planets_t_1"
      ],
      "execution_count": 0,
      "outputs": [
        {
          "output_type": "execute_result",
          "data": {
            "text/plain": [
              "['mercury', 'venus', 'earth', 'mars']"
            ]
          },
          "metadata": {
            "tags": []
          },
          "execution_count": 132
        }
      ]
    },
    {
      "cell_type": "code",
      "metadata": {
        "id": "51LDlZhto4Gm",
        "colab_type": "code",
        "colab": {}
      },
      "source": [
        "planets_t_1.append(planets_g)"
      ],
      "execution_count": 0,
      "outputs": []
    },
    {
      "cell_type": "code",
      "metadata": {
        "id": "_50upTq_o4Gn",
        "colab_type": "code",
        "colab": {}
      },
      "source": [
        "planets_t_1.append(planets_i)"
      ],
      "execution_count": 0,
      "outputs": []
    },
    {
      "cell_type": "code",
      "metadata": {
        "id": "tByUFbjso4Gp",
        "colab_type": "code",
        "outputId": "4ffe4e82-0b12-4da8-974c-2f995b4ad6d5",
        "colab": {}
      },
      "source": [
        "planets_t_1"
      ],
      "execution_count": 0,
      "outputs": [
        {
          "output_type": "execute_result",
          "data": {
            "text/plain": [
              "['mercury',\n",
              " 'venus',\n",
              " 'earth',\n",
              " 'mars',\n",
              " ['jupyter', 'saturn'],\n",
              " ['uranus', 'neptune']]"
            ]
          },
          "metadata": {
            "tags": []
          },
          "execution_count": 135
        }
      ]
    },
    {
      "cell_type": "code",
      "metadata": {
        "id": "t_xeljmqo4Gr",
        "colab_type": "code",
        "outputId": "35f8c74e-9404-4935-bdc3-29f75df2b093",
        "colab": {}
      },
      "source": [
        "planets_t # even planets_t is being affected \n",
        "# because both lists are same\n",
        "# i.e. they are occupying the same memory space in the computer, \n",
        "# their address is same"
      ],
      "execution_count": 0,
      "outputs": [
        {
          "output_type": "execute_result",
          "data": {
            "text/plain": [
              "['mercury',\n",
              " 'venus',\n",
              " 'earth',\n",
              " 'mars',\n",
              " ['jupyter', 'saturn'],\n",
              " ['uranus', 'neptune']]"
            ]
          },
          "metadata": {
            "tags": []
          },
          "execution_count": 136
        }
      ]
    },
    {
      "cell_type": "code",
      "metadata": {
        "id": "UgjQiqJgo4Gs",
        "colab_type": "code",
        "colab": {}
      },
      "source": [
        " # append is only taking one thing at a time, one string, one number or one list!"
      ],
      "execution_count": 0,
      "outputs": []
    },
    {
      "cell_type": "code",
      "metadata": {
        "id": "HyQecFxWo4Gu",
        "colab_type": "code",
        "colab": {}
      },
      "source": [
        "planets_g_1 = planets_g"
      ],
      "execution_count": 0,
      "outputs": []
    },
    {
      "cell_type": "code",
      "metadata": {
        "id": "Bg2Lc9zvo4Gv",
        "colab_type": "code",
        "outputId": "90daa436-6224-4427-95ab-69e4f4349023",
        "colab": {}
      },
      "source": [
        "planets_g_1"
      ],
      "execution_count": 0,
      "outputs": [
        {
          "output_type": "execute_result",
          "data": {
            "text/plain": [
              "['jupyter', 'saturn']"
            ]
          },
          "metadata": {
            "tags": []
          },
          "execution_count": 139
        }
      ]
    },
    {
      "cell_type": "code",
      "metadata": {
        "id": "HQ2jkWTmo4Gw",
        "colab_type": "code",
        "colab": {}
      },
      "source": [
        "planets_g_1.extend(planets_i)"
      ],
      "execution_count": 0,
      "outputs": []
    },
    {
      "cell_type": "code",
      "metadata": {
        "id": "OT0LnF1Fo4Gy",
        "colab_type": "code",
        "outputId": "49010215-1bb8-4133-cbae-9f961e098a1a",
        "colab": {}
      },
      "source": [
        "planets_g_1 "
      ],
      "execution_count": 0,
      "outputs": [
        {
          "output_type": "execute_result",
          "data": {
            "text/plain": [
              "['jupyter', 'saturn', 'uranus', 'neptune']"
            ]
          },
          "metadata": {
            "tags": []
          },
          "execution_count": 141
        }
      ]
    },
    {
      "cell_type": "code",
      "metadata": {
        "id": "5eA-YD2Fo4G0",
        "colab_type": "code",
        "colab": {}
      },
      "source": [
        "# extend will properly add contents to the original list, not the whole list as in append function\n",
        "# extend can take multiple contents at a time"
      ],
      "execution_count": 0,
      "outputs": []
    },
    {
      "cell_type": "code",
      "metadata": {
        "id": "piseBT4Ro4G1",
        "colab_type": "code",
        "outputId": "ce6398c8-bee9-4d0f-8cab-8b10a7854a6e",
        "colab": {}
      },
      "source": [
        "planets_g # also planet_g is being affected"
      ],
      "execution_count": 0,
      "outputs": [
        {
          "output_type": "execute_result",
          "data": {
            "text/plain": [
              "['jupyter', 'saturn', 'uranus', 'neptune']"
            ]
          },
          "metadata": {
            "tags": []
          },
          "execution_count": 142
        }
      ]
    },
    {
      "cell_type": "code",
      "metadata": {
        "id": "42p78AuBo4G4",
        "colab_type": "code",
        "colab": {}
      },
      "source": [
        "# to combine multiple list best function to use is extend"
      ],
      "execution_count": 0,
      "outputs": []
    },
    {
      "cell_type": "code",
      "metadata": {
        "id": "td3nDBxWo4G7",
        "colab_type": "code",
        "colab": {}
      },
      "source": [
        "# to add a content to the list append is better"
      ],
      "execution_count": 0,
      "outputs": []
    },
    {
      "cell_type": "code",
      "metadata": {
        "id": "5FIVg3S5o4G9",
        "colab_type": "code",
        "outputId": "ad6ccbbc-04e3-4228-f838-bd33a6c4388c",
        "colab": {}
      },
      "source": [
        "planets_g == planets_g_1 # boolean condition to check their equality"
      ],
      "execution_count": 0,
      "outputs": [
        {
          "output_type": "execute_result",
          "data": {
            "text/plain": [
              "True"
            ]
          },
          "metadata": {
            "tags": []
          },
          "execution_count": 144
        }
      ]
    },
    {
      "cell_type": "code",
      "metadata": {
        "id": "mMcubfFDo4G_",
        "colab_type": "code",
        "colab": {}
      },
      "source": [
        "p_list = ['jupyter', 'saturn', 'uranus', 'neptune'] # making a new list"
      ],
      "execution_count": 0,
      "outputs": []
    },
    {
      "cell_type": "code",
      "metadata": {
        "id": "7Gnh2H30o4HB",
        "colab_type": "code",
        "outputId": "a2523b55-a0d6-4220-f5d5-3bb69c3e6d2e",
        "colab": {}
      },
      "source": [
        "p_list == planets_g # comparing old list with same contents with new list"
      ],
      "execution_count": 0,
      "outputs": [
        {
          "output_type": "execute_result",
          "data": {
            "text/plain": [
              "True"
            ]
          },
          "metadata": {
            "tags": []
          },
          "execution_count": 152
        }
      ]
    },
    {
      "cell_type": "code",
      "metadata": {
        "id": "jm20SKtAo4HF",
        "colab_type": "code",
        "colab": {}
      },
      "source": [
        "# it's true because their content is same"
      ],
      "execution_count": 0,
      "outputs": []
    },
    {
      "cell_type": "code",
      "metadata": {
        "id": "uqeTuZcIo4HH",
        "colab_type": "code",
        "outputId": "24c85865-8d04-4584-db3f-ab9aa561815d",
        "colab": {}
      },
      "source": [
        "p_list.pop() # pop function removes the last content from the list"
      ],
      "execution_count": 0,
      "outputs": [
        {
          "output_type": "execute_result",
          "data": {
            "text/plain": [
              "'neptune'"
            ]
          },
          "metadata": {
            "tags": []
          },
          "execution_count": 154
        }
      ]
    },
    {
      "cell_type": "code",
      "metadata": {
        "id": "66zTpthLo4HI",
        "colab_type": "code",
        "outputId": "251cdcf4-c390-4ad1-9587-7a5cd14e81c6",
        "colab": {}
      },
      "source": [
        "p_list.pop()"
      ],
      "execution_count": 0,
      "outputs": [
        {
          "output_type": "execute_result",
          "data": {
            "text/plain": [
              "'uranus'"
            ]
          },
          "metadata": {
            "tags": []
          },
          "execution_count": 156
        }
      ]
    },
    {
      "cell_type": "code",
      "metadata": {
        "id": "prNRnB3Po4HN",
        "colab_type": "code",
        "outputId": "e78c692b-bdd5-4454-fb59-9df28812396f",
        "colab": {}
      },
      "source": [
        "p_list"
      ],
      "execution_count": 0,
      "outputs": [
        {
          "output_type": "execute_result",
          "data": {
            "text/plain": [
              "['jupyter', 'saturn']"
            ]
          },
          "metadata": {
            "tags": []
          },
          "execution_count": 158
        }
      ]
    },
    {
      "cell_type": "code",
      "metadata": {
        "id": "74gZCaZpo4HO",
        "colab_type": "code",
        "colab": {}
      },
      "source": [
        "p_list.remove('jupyter') # removes the exact content that we want from the list"
      ],
      "execution_count": 0,
      "outputs": []
    },
    {
      "cell_type": "code",
      "metadata": {
        "id": "S8WoV5uoo4HP",
        "colab_type": "code",
        "outputId": "5dbcb778-4c5d-4b8e-9e65-6ccb50ab2153",
        "colab": {}
      },
      "source": [
        "p_list # now our list only has saturn :p"
      ],
      "execution_count": 0,
      "outputs": [
        {
          "output_type": "execute_result",
          "data": {
            "text/plain": [
              "['saturn']"
            ]
          },
          "metadata": {
            "tags": []
          },
          "execution_count": 160
        }
      ]
    },
    {
      "cell_type": "code",
      "metadata": {
        "id": "8hEjMgUgo4HR",
        "colab_type": "code",
        "colab": {}
      },
      "source": [
        "# let's try to remove more than one content from solar_system"
      ],
      "execution_count": 0,
      "outputs": []
    },
    {
      "cell_type": "code",
      "metadata": {
        "id": "LM_2j0Duo4HU",
        "colab_type": "code",
        "outputId": "9a4c0a6b-3513-4587-9bf3-a85ddefc9c57",
        "colab": {}
      },
      "source": [
        "solar_system"
      ],
      "execution_count": 0,
      "outputs": [
        {
          "output_type": "execute_result",
          "data": {
            "text/plain": [
              "['mercury', 'venus', 'earth', 'mars', 'jupyter', 'saturn', 'uranus', 'neptune']"
            ]
          },
          "metadata": {
            "tags": []
          },
          "execution_count": 162
        }
      ]
    },
    {
      "cell_type": "code",
      "metadata": {
        "id": "4je3el0Xo4HV",
        "colab_type": "code",
        "outputId": "3c457f7b-2c8d-4d5e-8da9-e6be9e54498d",
        "colab": {}
      },
      "source": [
        "solar_system.remove('mercury', 'jupyter', 'uranus')"
      ],
      "execution_count": 0,
      "outputs": [
        {
          "output_type": "error",
          "ename": "TypeError",
          "evalue": "remove() takes exactly one argument (3 given)",
          "traceback": [
            "\u001b[1;31m---------------------------------------------------------------------------\u001b[0m",
            "\u001b[1;31mTypeError\u001b[0m                                 Traceback (most recent call last)",
            "\u001b[1;32m<ipython-input-163-d70270283953>\u001b[0m in \u001b[0;36m<module>\u001b[1;34m\u001b[0m\n\u001b[1;32m----> 1\u001b[1;33m \u001b[0msolar_system\u001b[0m\u001b[1;33m.\u001b[0m\u001b[0mremove\u001b[0m\u001b[1;33m(\u001b[0m\u001b[1;34m'mercury'\u001b[0m\u001b[1;33m,\u001b[0m \u001b[1;34m'jupyter'\u001b[0m\u001b[1;33m,\u001b[0m \u001b[1;34m'uranus'\u001b[0m\u001b[1;33m)\u001b[0m\u001b[1;33m\u001b[0m\u001b[1;33m\u001b[0m\u001b[0m\n\u001b[0m",
            "\u001b[1;31mTypeError\u001b[0m: remove() takes exactly one argument (3 given)"
          ]
        }
      ]
    },
    {
      "cell_type": "code",
      "metadata": {
        "id": "s3f8BPA-o4HW",
        "colab_type": "code",
        "outputId": "e189282a-1c3b-4bc2-aaff-d288569e21f7",
        "colab": {}
      },
      "source": [
        "solar_system.remove(['mercury', 'jupyter', 'uranus'])"
      ],
      "execution_count": 0,
      "outputs": [
        {
          "output_type": "error",
          "ename": "ValueError",
          "evalue": "list.remove(x): x not in list",
          "traceback": [
            "\u001b[1;31m---------------------------------------------------------------------------\u001b[0m",
            "\u001b[1;31mValueError\u001b[0m                                Traceback (most recent call last)",
            "\u001b[1;32m<ipython-input-164-85f54f39cfac>\u001b[0m in \u001b[0;36m<module>\u001b[1;34m\u001b[0m\n\u001b[1;32m----> 1\u001b[1;33m \u001b[0msolar_system\u001b[0m\u001b[1;33m.\u001b[0m\u001b[0mremove\u001b[0m\u001b[1;33m(\u001b[0m\u001b[1;33m[\u001b[0m\u001b[1;34m'mercury'\u001b[0m\u001b[1;33m,\u001b[0m \u001b[1;34m'jupyter'\u001b[0m\u001b[1;33m,\u001b[0m \u001b[1;34m'uranus'\u001b[0m\u001b[1;33m]\u001b[0m\u001b[1;33m)\u001b[0m\u001b[1;33m\u001b[0m\u001b[1;33m\u001b[0m\u001b[0m\n\u001b[0m",
            "\u001b[1;31mValueError\u001b[0m: list.remove(x): x not in list"
          ]
        }
      ]
    },
    {
      "cell_type": "code",
      "metadata": {
        "id": "rWQBdeBSo4HX",
        "colab_type": "code",
        "colab": {}
      },
      "source": [
        "# so we can only remove one thing at a time from list using remove"
      ],
      "execution_count": 0,
      "outputs": []
    },
    {
      "cell_type": "code",
      "metadata": {
        "id": "zUXdRgHNo4HZ",
        "colab_type": "code",
        "colab": {}
      },
      "source": [
        "solar_system.reverse() # reverse function will reverse everything in the list"
      ],
      "execution_count": 0,
      "outputs": []
    },
    {
      "cell_type": "code",
      "metadata": {
        "id": "LzqtwtBFo4HZ",
        "colab_type": "code",
        "outputId": "71139018-76bf-4130-fa36-b1ece79190c4",
        "colab": {}
      },
      "source": [
        "solar_system"
      ],
      "execution_count": 0,
      "outputs": [
        {
          "output_type": "execute_result",
          "data": {
            "text/plain": [
              "['neptune', 'uranus', 'saturn', 'jupyter', 'mars', 'earth', 'venus', 'mercury']"
            ]
          },
          "metadata": {
            "tags": []
          },
          "execution_count": 167
        }
      ]
    },
    {
      "cell_type": "code",
      "metadata": {
        "id": "Mrkdqi95o4Hb",
        "colab_type": "code",
        "outputId": "1e60a0e4-ae41-4f90-e7db-c1485fc8e528",
        "colab": {}
      },
      "source": [
        "solar_system.index('saturn'), solar_system.index('earth')\n",
        "# index function returns the index location of our content"
      ],
      "execution_count": 0,
      "outputs": [
        {
          "output_type": "execute_result",
          "data": {
            "text/plain": [
              "(2, 5)"
            ]
          },
          "metadata": {
            "tags": []
          },
          "execution_count": 173
        }
      ]
    },
    {
      "cell_type": "code",
      "metadata": {
        "id": "7TbTKph5o4Hc",
        "colab_type": "code",
        "colab": {}
      },
      "source": [
        "solar_system.insert(0, 'pluto')\n",
        "# inserting pluto in 0 index position"
      ],
      "execution_count": 0,
      "outputs": []
    },
    {
      "cell_type": "code",
      "metadata": {
        "id": "IGODG-RRo4Hc",
        "colab_type": "code",
        "outputId": "2f21ebe7-db1b-48e4-9dcc-06102ac043f4",
        "colab": {}
      },
      "source": [
        "solar_system"
      ],
      "execution_count": 0,
      "outputs": [
        {
          "output_type": "execute_result",
          "data": {
            "text/plain": [
              "['pluto',\n",
              " 'neptune',\n",
              " 'uranus',\n",
              " 'saturn',\n",
              " 'jupyter',\n",
              " 'mars',\n",
              " 'earth',\n",
              " 'venus',\n",
              " 'mercury']"
            ]
          },
          "metadata": {
            "tags": []
          },
          "execution_count": 179
        }
      ]
    },
    {
      "cell_type": "code",
      "metadata": {
        "id": "4bt2eoqyo4Hd",
        "colab_type": "code",
        "colab": {}
      },
      "source": [
        "solar_system.insert(5, 'ceres')\n",
        "# insert ceres in index position 5"
      ],
      "execution_count": 0,
      "outputs": []
    },
    {
      "cell_type": "code",
      "metadata": {
        "id": "4mkBEj31o4He",
        "colab_type": "code",
        "outputId": "d1846348-78be-46bc-d443-cb1fd8b9b86a",
        "colab": {}
      },
      "source": [
        "solar_system"
      ],
      "execution_count": 0,
      "outputs": [
        {
          "output_type": "execute_result",
          "data": {
            "text/plain": [
              "['pluto',\n",
              " 'neptune',\n",
              " 'uranus',\n",
              " 'saturn',\n",
              " 'jupyter',\n",
              " 'ceres',\n",
              " 'mars',\n",
              " 'earth',\n",
              " 'venus',\n",
              " 'mercury']"
            ]
          },
          "metadata": {
            "tags": []
          },
          "execution_count": 181
        }
      ]
    },
    {
      "cell_type": "code",
      "metadata": {
        "id": "578HcdHeo4Hf",
        "colab_type": "code",
        "colab": {}
      },
      "source": [
        "solar_system.sort()\n",
        "# to sort our list in ascending oe=rder"
      ],
      "execution_count": 0,
      "outputs": []
    },
    {
      "cell_type": "code",
      "metadata": {
        "id": "xR8wr4E7o4Hg",
        "colab_type": "code",
        "outputId": "6d6c6638-2824-4b88-cc31-515d92878c0d",
        "colab": {}
      },
      "source": [
        "solar_system\n",
        "# sorted list in ascending alphabetical order"
      ],
      "execution_count": 0,
      "outputs": [
        {
          "output_type": "execute_result",
          "data": {
            "text/plain": [
              "['ceres',\n",
              " 'earth',\n",
              " 'jupyter',\n",
              " 'mars',\n",
              " 'mercury',\n",
              " 'neptune',\n",
              " 'pluto',\n",
              " 'saturn',\n",
              " 'uranus',\n",
              " 'venus']"
            ]
          },
          "metadata": {
            "tags": []
          },
          "execution_count": 183
        }
      ]
    },
    {
      "cell_type": "code",
      "metadata": {
        "id": "U8uIKv-Jo4Hh",
        "colab_type": "code",
        "colab": {}
      },
      "source": [
        "solar_system.sort(reverse = True)\n",
        "# to sort in descending order give reverse = True as an argument to sort()"
      ],
      "execution_count": 0,
      "outputs": []
    },
    {
      "cell_type": "code",
      "metadata": {
        "id": "NqvMcG8co4Hi",
        "colab_type": "code",
        "outputId": "468de072-ba17-4545-e293-22b61f7438ef",
        "colab": {}
      },
      "source": [
        "solar_system"
      ],
      "execution_count": 0,
      "outputs": [
        {
          "output_type": "execute_result",
          "data": {
            "text/plain": [
              "['venus',\n",
              " 'uranus',\n",
              " 'saturn',\n",
              " 'pluto',\n",
              " 'neptune',\n",
              " 'mercury',\n",
              " 'mars',\n",
              " 'jupyter',\n",
              " 'earth',\n",
              " 'ceres']"
            ]
          },
          "metadata": {
            "tags": []
          },
          "execution_count": 185
        }
      ]
    },
    {
      "cell_type": "code",
      "metadata": {
        "id": "p_82X_wLo4Hj",
        "colab_type": "code",
        "colab": {}
      },
      "source": [
        "solar_system_1 = solar_system.copy()\n",
        "# to copy the content from one list to other list but in a different memory in computer"
      ],
      "execution_count": 0,
      "outputs": []
    },
    {
      "cell_type": "code",
      "metadata": {
        "id": "keud9dI8o4Hk",
        "colab_type": "code",
        "colab": {}
      },
      "source": [
        "solar_system_1.append(fruits)"
      ],
      "execution_count": 0,
      "outputs": []
    },
    {
      "cell_type": "code",
      "metadata": {
        "id": "MYxwSzaUo4Hk",
        "colab_type": "code",
        "outputId": "d2871fcb-9d0d-43e3-824a-e86d6be18c5e",
        "colab": {}
      },
      "source": [
        "solar_system_1"
      ],
      "execution_count": 0,
      "outputs": [
        {
          "output_type": "execute_result",
          "data": {
            "text/plain": [
              "['venus',\n",
              " 'uranus',\n",
              " 'saturn',\n",
              " 'pluto',\n",
              " 'neptune',\n",
              " 'mercury',\n",
              " 'mars',\n",
              " 'jupyter',\n",
              " 'earth',\n",
              " 'ceres',\n",
              " ['apple',\n",
              "  'mango',\n",
              "  'banana',\n",
              "  'orange',\n",
              "  'grapes',\n",
              "  ['carrots', 'brocolli', 'spinach', 'cucumber']]]"
            ]
          },
          "metadata": {
            "tags": []
          },
          "execution_count": 196
        }
      ]
    },
    {
      "cell_type": "code",
      "metadata": {
        "id": "f-5XW04eo4Hm",
        "colab_type": "code",
        "outputId": "1aeec428-2789-4411-a56e-ef4efff0155d",
        "colab": {}
      },
      "source": [
        "solar_system"
      ],
      "execution_count": 0,
      "outputs": [
        {
          "output_type": "execute_result",
          "data": {
            "text/plain": [
              "['venus',\n",
              " 'uranus',\n",
              " 'saturn',\n",
              " 'pluto',\n",
              " 'neptune',\n",
              " 'mercury',\n",
              " 'mars',\n",
              " 'jupyter',\n",
              " 'earth',\n",
              " 'ceres']"
            ]
          },
          "metadata": {
            "tags": []
          },
          "execution_count": 197
        }
      ]
    },
    {
      "cell_type": "code",
      "metadata": {
        "id": "37aHZQgUo4Hn",
        "colab_type": "code",
        "colab": {}
      },
      "source": [
        "solar_system_2 = solar_system.copy()"
      ],
      "execution_count": 0,
      "outputs": []
    },
    {
      "cell_type": "code",
      "metadata": {
        "id": "Ezy2P87Vo4Hp",
        "colab_type": "code",
        "outputId": "3d005cc7-da75-4135-d87e-7c6f794108d8",
        "colab": {}
      },
      "source": [
        "solar_system == solar_system_2 # check whether they are same"
      ],
      "execution_count": 0,
      "outputs": [
        {
          "output_type": "execute_result",
          "data": {
            "text/plain": [
              "True"
            ]
          },
          "metadata": {
            "tags": []
          },
          "execution_count": 199
        }
      ]
    },
    {
      "cell_type": "code",
      "metadata": {
        "id": "tLBuuamVo4Hq",
        "colab_type": "code",
        "outputId": "2bb722f1-0deb-42d9-beef-bc6676ff937d",
        "colab": {}
      },
      "source": [
        "solar_system is solar_system_2 # they do not refer to the same object"
      ],
      "execution_count": 0,
      "outputs": [
        {
          "output_type": "execute_result",
          "data": {
            "text/plain": [
              "False"
            ]
          },
          "metadata": {
            "tags": []
          },
          "execution_count": 204
        }
      ]
    },
    {
      "cell_type": "code",
      "metadata": {
        "id": "uEti-ZqVo4Hr",
        "colab_type": "code",
        "colab": {}
      },
      "source": [
        "solar_system[0] = 'sun'\n",
        "# replacing venus with sun at first position\n",
        "# instead of removing and inserting, directly replace the content"
      ],
      "execution_count": 0,
      "outputs": []
    },
    {
      "cell_type": "code",
      "metadata": {
        "id": "uZ7RHTvQo4Hs",
        "colab_type": "code",
        "outputId": "b7d80fcd-06de-424b-f1df-a82e602f2cdd",
        "colab": {}
      },
      "source": [
        "solar_system"
      ],
      "execution_count": 0,
      "outputs": [
        {
          "output_type": "execute_result",
          "data": {
            "text/plain": [
              "['sun',\n",
              " 'uranus',\n",
              " 'saturn',\n",
              " 'pluto',\n",
              " 'neptune',\n",
              " 'mercury',\n",
              " 'mars',\n",
              " 'jupyter',\n",
              " 'earth',\n",
              " 'ceres']"
            ]
          },
          "metadata": {
            "tags": []
          },
          "execution_count": 208
        }
      ]
    },
    {
      "cell_type": "code",
      "metadata": {
        "id": "iulhIw9jo4H1",
        "colab_type": "code",
        "colab": {}
      },
      "source": [
        "solar_system_3 = ['mercury', 'venus', 'earth', 'mars', 'jupyter', 'saturn', 'uranus', 'neptune']"
      ],
      "execution_count": 0,
      "outputs": []
    },
    {
      "cell_type": "code",
      "metadata": {
        "id": "LPQ9Oy-8Aui-",
        "colab_type": "code",
        "outputId": "1dd8d26f-8412-4b28-f300-441b6a9cea76",
        "colab": {
          "base_uri": "https://localhost:8080/",
          "height": 34
        }
      },
      "source": [
        "'sun' in solar_system_3"
      ],
      "execution_count": 0,
      "outputs": [
        {
          "output_type": "execute_result",
          "data": {
            "text/plain": [
              "False"
            ]
          },
          "metadata": {
            "tags": []
          },
          "execution_count": 2
        }
      ]
    },
    {
      "cell_type": "code",
      "metadata": {
        "id": "WCm_tXVXAvCX",
        "colab_type": "code",
        "outputId": "cef01f95-958c-4321-831a-fcf07dc9000b",
        "colab": {
          "base_uri": "https://localhost:8080/",
          "height": 34
        }
      },
      "source": [
        "'earth' in solar_system_3 # to check whether the content is in the list or not"
      ],
      "execution_count": 0,
      "outputs": [
        {
          "output_type": "execute_result",
          "data": {
            "text/plain": [
              "True"
            ]
          },
          "metadata": {
            "tags": []
          },
          "execution_count": 3
        }
      ]
    },
    {
      "cell_type": "code",
      "metadata": {
        "id": "G1G2yCcFBN9l",
        "colab_type": "code",
        "outputId": "c38bdf9a-4109-4b79-a770-dc09bd0c58c5",
        "colab": {
          "base_uri": "https://localhost:8080/",
          "height": 34
        }
      },
      "source": [
        "solar_system_3['earth' in solar_system_3] # becasue ''earth' in solar_system_3' is True which is 1, and\n",
        "# solar_system[1] is venus"
      ],
      "execution_count": 0,
      "outputs": [
        {
          "output_type": "execute_result",
          "data": {
            "text/plain": [
              "'venus'"
            ]
          },
          "metadata": {
            "tags": []
          },
          "execution_count": 13
        }
      ]
    },
    {
      "cell_type": "code",
      "metadata": {
        "id": "Hu1zKpZdBR3n",
        "colab_type": "code",
        "outputId": "ca129610-8369-4bdc-caa6-6165b4666d45",
        "colab": {
          "base_uri": "https://localhost:8080/",
          "height": 34
        }
      },
      "source": [
        "solar_system_3['sun' in solar_system_3] # becasue ''sun' in solar_system_3' is False which is 0, and\n",
        "# solar_system[1] is mercury"
      ],
      "execution_count": 0,
      "outputs": [
        {
          "output_type": "execute_result",
          "data": {
            "text/plain": [
              "'mercury'"
            ]
          },
          "metadata": {
            "tags": []
          },
          "execution_count": 14
        }
      ]
    },
    {
      "cell_type": "code",
      "metadata": {
        "id": "B394PUxvygd7",
        "colab_type": "code",
        "outputId": "1879d3d6-14ad-480d-fd1e-44f1653dc72e",
        "colab": {
          "base_uri": "https://localhost:8080/",
          "height": 84
        }
      },
      "source": [
        "fruits = ['apple', 'mango', 'banana', 'orange', 'grapes']\n",
        "other_fruits = fruits                 # Point other_fruits at what fruits is pointing to\n",
        "print(other_fruits is fruits)         # => True, fruits and other_fruits refer to the same object\n",
        "print(other_fruits == fruits)         # => True, fruits's and other_fruits's objects are equal\n",
        "\n",
        "other_fruits = ['apple', 'mango', 'banana', 'orange', 'grapes']  # Point other_fruits at a new list, ['apple', 'mango', 'banana', 'orange', 'grapes']\n",
        "print(other_fruits is fruits)             # => False, fruits and other_fruits do not refer to the same object\n",
        "print(other_fruits == fruits)            # => True, fruits's and other_fruits's objects are equal"
      ],
      "execution_count": 0,
      "outputs": [
        {
          "output_type": "stream",
          "text": [
            "True\n",
            "True\n",
            "False\n",
            "True\n"
          ],
          "name": "stdout"
        }
      ]
    },
    {
      "cell_type": "code",
      "metadata": {
        "id": "jPXAbkf3o4Hu",
        "colab_type": "code",
        "colab": {}
      },
      "source": [
        "# we saw few functions: \n",
        "# append\n",
        "# extend\n",
        "# insert\n",
        "# remove\n",
        "# pop\n",
        "# reverse\n",
        "# index\n",
        "# sort"
      ],
      "execution_count": 0,
      "outputs": []
    },
    {
      "cell_type": "code",
      "metadata": {
        "id": "A5Mx10YRo4Hz",
        "colab_type": "code",
        "colab": {}
      },
      "source": [
        "# Loops"
      ],
      "execution_count": 0,
      "outputs": []
    },
    {
      "cell_type": "code",
      "metadata": {
        "id": "sUD7W0tfA1pk",
        "colab_type": "code",
        "outputId": "cc999278-69c3-4ac5-8ddb-d72a0a1c1876",
        "colab": {
          "base_uri": "https://localhost:8080/",
          "height": 84
        }
      },
      "source": [
        "for value in [1, 2, 3, 4]:  # the keyword value we defined will look in the list,\n",
        "  # will pick the values from list\n",
        "  print(value) # and print it one by one untill all values are printed"
      ],
      "execution_count": 0,
      "outputs": [
        {
          "output_type": "stream",
          "text": [
            "1\n",
            "2\n",
            "3\n",
            "4\n"
          ],
          "name": "stdout"
        }
      ]
    },
    {
      "cell_type": "code",
      "metadata": {
        "id": "yAvjYBZVA4Nk",
        "colab_type": "code",
        "outputId": "b88a6c28-cd9d-4948-a5a9-9ba3a9b4b889",
        "colab": {
          "base_uri": "https://localhost:8080/",
          "height": 84
        }
      },
      "source": [
        "for i in [1, 2, 3, 4]:\n",
        "  print(i) # the iteration continues till last value is printed"
      ],
      "execution_count": 0,
      "outputs": [
        {
          "output_type": "stream",
          "text": [
            "1\n",
            "2\n",
            "3\n",
            "4\n"
          ],
          "name": "stdout"
        }
      ]
    },
    {
      "cell_type": "code",
      "metadata": {
        "id": "kaasCa0nA5fg",
        "colab_type": "code",
        "outputId": "41d6454e-6eb3-4f1c-a8c5-bf38de3eb523",
        "colab": {
          "base_uri": "https://localhost:8080/",
          "height": 151
        }
      },
      "source": [
        "for i in solar_system_3:\n",
        "  print(i)"
      ],
      "execution_count": 0,
      "outputs": [
        {
          "output_type": "stream",
          "text": [
            "mercury\n",
            "venus\n",
            "earth\n",
            "mars\n",
            "jupyter\n",
            "saturn\n",
            "uranus\n",
            "neptune\n"
          ],
          "name": "stdout"
        }
      ]
    },
    {
      "cell_type": "code",
      "metadata": {
        "id": "5ZS_eDt8A6fx",
        "colab_type": "code",
        "outputId": "27deb95b-24fb-4d0c-8ca0-dcf950fd9ffc",
        "colab": {
          "base_uri": "https://localhost:8080/",
          "height": 34
        }
      },
      "source": [
        "print(' The planet name is: ', solar_system_3[0])"
      ],
      "execution_count": 0,
      "outputs": [
        {
          "output_type": "stream",
          "text": [
            " The planet name is:  mercury\n"
          ],
          "name": "stdout"
        }
      ]
    },
    {
      "cell_type": "code",
      "metadata": {
        "id": "W1E5DTHwA87a",
        "colab_type": "code",
        "outputId": "a6600201-e75a-4793-896f-a4e6da011921",
        "colab": {
          "base_uri": "https://localhost:8080/",
          "height": 151
        }
      },
      "source": [
        "for i in solar_system_3:\n",
        "  print(' The planet name is: ', i)"
      ],
      "execution_count": 0,
      "outputs": [
        {
          "output_type": "stream",
          "text": [
            " The planet name is:  mercury\n",
            " The planet name is:  venus\n",
            " The planet name is:  earth\n",
            " The planet name is:  mars\n",
            " The planet name is:  jupyter\n",
            " The planet name is:  saturn\n",
            " The planet name is:  uranus\n",
            " The planet name is:  neptune\n"
          ],
          "name": "stdout"
        }
      ]
    },
    {
      "cell_type": "code",
      "metadata": {
        "id": "i7h4g0WrA-pu",
        "colab_type": "code",
        "outputId": "2e0fd7a5-9336-4e86-a847-1edaecc81ccb",
        "colab": {
          "base_uri": "https://localhost:8080/",
          "height": 84
        }
      },
      "source": [
        "for i in solar_system_3[0:4]: # printing top 4 only\n",
        "  print(i)"
      ],
      "execution_count": 0,
      "outputs": [
        {
          "output_type": "stream",
          "text": [
            "mercury\n",
            "venus\n",
            "earth\n",
            "mars\n"
          ],
          "name": "stdout"
        }
      ]
    },
    {
      "cell_type": "code",
      "metadata": {
        "id": "mWjyWZ4CBAYR",
        "colab_type": "code",
        "outputId": "c6a1bc27-fffd-497f-9d36-95741a427bb6",
        "colab": {
          "base_uri": "https://localhost:8080/",
          "height": 84
        }
      },
      "source": [
        "for i in solar_system_3[0::2]: # jump to second position\n",
        "  print(i)"
      ],
      "execution_count": 0,
      "outputs": [
        {
          "output_type": "stream",
          "text": [
            "mercury\n",
            "earth\n",
            "jupyter\n",
            "uranus\n"
          ],
          "name": "stdout"
        }
      ]
    },
    {
      "cell_type": "code",
      "metadata": {
        "id": "BikahaNDBCSP",
        "colab_type": "code",
        "outputId": "012e17a0-2656-4032-acaf-ca11b992c5f8",
        "colab": {
          "base_uri": "https://localhost:8080/",
          "height": 50
        }
      },
      "source": [
        "# I want to print earth and uranus, index position 2 and 6\n",
        "for i in solar_system_3[2::4]:\n",
        "  print(i)"
      ],
      "execution_count": 0,
      "outputs": [
        {
          "output_type": "stream",
          "text": [
            "earth\n",
            "uranus\n"
          ],
          "name": "stdout"
        }
      ]
    },
    {
      "cell_type": "code",
      "metadata": {
        "id": "C43iQk3tKDEC",
        "colab_type": "code",
        "outputId": "496387d5-7c19-403b-c8d6-cf363473ce39",
        "colab": {
          "base_uri": "https://localhost:8080/",
          "height": 151
        }
      },
      "source": [
        "for i in solar_system_3:\n",
        "    print(i[0])"
      ],
      "execution_count": 0,
      "outputs": [
        {
          "output_type": "stream",
          "text": [
            "m\n",
            "v\n",
            "e\n",
            "m\n",
            "j\n",
            "s\n",
            "u\n",
            "n\n"
          ],
          "name": "stdout"
        }
      ]
    },
    {
      "cell_type": "code",
      "metadata": {
        "id": "bkg1eKS0KDmq",
        "colab_type": "code",
        "outputId": "38413b02-f708-4223-9188-9f1108007286",
        "colab": {
          "base_uri": "https://localhost:8080/",
          "height": 134
        }
      },
      "source": [
        "for i in solar_system_3[0]:\n",
        "    print(i)"
      ],
      "execution_count": 0,
      "outputs": [
        {
          "output_type": "stream",
          "text": [
            "m\n",
            "e\n",
            "r\n",
            "c\n",
            "u\n",
            "r\n",
            "y\n"
          ],
          "name": "stdout"
        }
      ]
    },
    {
      "cell_type": "code",
      "metadata": {
        "id": "MQld_Gfmo4H2",
        "colab_type": "code",
        "outputId": "0211c639-fd6e-4756-d747-0516c4dbe64c",
        "colab": {}
      },
      "source": [
        "for i in solar_system_3:\n",
        "    print(\"the planet is \", i)"
      ],
      "execution_count": 0,
      "outputs": [
        {
          "output_type": "stream",
          "text": [
            "the planet is  mercury\n",
            "the planet is  venus\n",
            "the planet is  earth\n",
            "the planet is  mars\n",
            "the planet is  jupyter\n",
            "the planet is  saturn\n",
            "the planet is  uranus\n",
            "the planet is  neptune\n"
          ],
          "name": "stdout"
        }
      ]
    },
    {
      "cell_type": "code",
      "metadata": {
        "id": "kq7_O-bpo4H3",
        "colab_type": "code",
        "outputId": "b60db01c-58f8-496e-913b-34e18a769e05",
        "colab": {}
      },
      "source": [
        "for i, j in enumerate(solar_system_3):\n",
        "    print(\"the\" , i + 1, \" planet is \", j)"
      ],
      "execution_count": 0,
      "outputs": [
        {
          "output_type": "stream",
          "text": [
            "the 1  planet is  mercury\n",
            "the 2  planet is  venus\n",
            "the 3  planet is  earth\n",
            "the 4  planet is  mars\n",
            "the 5  planet is  jupyter\n",
            "the 6  planet is  saturn\n",
            "the 7  planet is  uranus\n",
            "the 8  planet is  neptune\n"
          ],
          "name": "stdout"
        }
      ]
    },
    {
      "cell_type": "code",
      "metadata": {
        "id": "zihoKCx8KQQy",
        "colab_type": "code",
        "colab": {}
      },
      "source": [
        "# Function"
      ],
      "execution_count": 0,
      "outputs": []
    },
    {
      "cell_type": "code",
      "metadata": {
        "id": "x2Zi9NWUo4H4",
        "colab_type": "code",
        "colab": {}
      },
      "source": [
        "mon =[]  # make empty lists to store the values of our return\n",
        "dat = []\n",
        "ye = []\n",
        "\n",
        "def dob():   # a function which asks for the dob and prints out in  a proper format\n",
        "    m = input(\"Month you were born: \")\n",
        "    d = input(\"Date you were born: \")\n",
        "    y = input(\"Year you were born: \")\n",
        "    \n",
        "    print('mm/dd/yyyy: ', m, '/', d, '/', y)\n",
        "    \n",
        "    return m, d, y"
      ],
      "execution_count": 0,
      "outputs": []
    },
    {
      "cell_type": "code",
      "metadata": {
        "id": "3IT2Y2lGJp4g",
        "colab_type": "code",
        "outputId": "293a2c0c-d277-4954-f534-34fecbfaebc9",
        "colab": {
          "base_uri": "https://localhost:8080/",
          "height": 218
        }
      },
      "source": [
        "for i in range(3):\n",
        "    month, date, year = dob()\n",
        "    mon.append(month)\n",
        "    dat.append(date)\n",
        "    ye.append(year)"
      ],
      "execution_count": 0,
      "outputs": [
        {
          "output_type": "stream",
          "text": [
            "Month you were born: 10\n",
            "Date you were born: 23\n",
            "Year you were born: 1994\n",
            "mm/dd/yyyy:  10 / 23 / 1994\n",
            "Month you were born: 10\n",
            "Date you were born: 30\n",
            "Year you were born: 1990\n",
            "mm/dd/yyyy:  10 / 30 / 1990\n",
            "Month you were born: 5\n",
            "Date you were born: 15\n",
            "Year you were born: 1974\n",
            "mm/dd/yyyy:  5 / 15 / 1974\n"
          ],
          "name": "stdout"
        }
      ]
    },
    {
      "cell_type": "code",
      "metadata": {
        "id": "h9ILYT9wJ8O8",
        "colab_type": "code",
        "outputId": "6db6b89e-0250-444b-f0e4-c11567a6d012",
        "colab": {
          "base_uri": "https://localhost:8080/",
          "height": 67
        }
      },
      "source": [
        "print(mon)\n",
        "print(dat)\n",
        "print(ye)"
      ],
      "execution_count": 0,
      "outputs": [
        {
          "output_type": "stream",
          "text": [
            "['10', '10', '5']\n",
            "['23', '30', '15']\n",
            "['1994', '1990', '1974']\n"
          ],
          "name": "stdout"
        }
      ]
    },
    {
      "cell_type": "code",
      "metadata": {
        "id": "5AaWfPSFJ88y",
        "colab_type": "code",
        "colab": {}
      },
      "source": [
        ""
      ],
      "execution_count": 0,
      "outputs": []
    },
    {
      "cell_type": "markdown",
      "metadata": {
        "id": "kjUofsz2Wnl2",
        "colab_type": "text"
      },
      "source": [
        "**List Methods**\n",
        "\n",
        "Append()\tAdd an element to the end of the list\n",
        "\n",
        "Extend()\tAdd all elements of a list to the another list\n",
        "\n",
        "Insert()\tInsert an item at the defined index\n",
        "\n",
        "Remove()\tRemoves an item from the list\n",
        "\n",
        "Pop()\tRemoves and returns an element at the given index\n",
        "\n",
        "Clear()\tRemoves all items from the list\n",
        "\n",
        "Index()\tReturns the index of the first matched item\n",
        "\n",
        "Count()\tReturns the count of number of items passed as an argument\n",
        "\n",
        "Sort()\tSort items in a list in ascending order\n",
        "\n",
        "Reverse()\tReverse the order of items in the list\n",
        "\n",
        "copy()\tReturns a copy of the list\n",
        "\n",
        "\n",
        "**Built-in functions with List**\n",
        "\n",
        "round()\tRounds off to the given number of digits and returns the floating point number\n",
        "\n",
        "reduce()\tapply a particular function passed in its argument to all of the list elements stores the intermediate \n",
        "\n",
        "result and only returns the final summation value\n",
        "\n",
        "sum()\tSums up the numbers in the list\n",
        "\n",
        "ord()\tReturns an integer representing the Unicode code point of the given Unicode character\n",
        "\n",
        "cmp()\tThis function returns 1, if first list is “greater” than second list\n",
        "\n",
        "max()\treturn maximum element of given list\n",
        "\n",
        "min()\treturn minimum element of given list\n",
        "\n",
        "all()\tReturns true if all element are true or if list is empty\n",
        "\n",
        "any()\treturn true if any element of the list is true. if list is empty, return false\n",
        "\n",
        "len()\tReturns length of the list or size of the list\n",
        "\n",
        "enumerate()\tReturns enumerate object of list\n",
        "\n",
        "accumulate()\tapply a particular function passed in its argument to all of the list elements returns a list \n",
        "containing the intermediate results\n",
        "\n",
        "filter()\ttests if each element of a list true or not\n",
        "\n",
        "map()\treturns a list of the results after applying the given function to each item of a given iterable\n",
        "\n",
        "lambda()\tThis function can have any number of arguments but only one expression, which is evaluated and returned."
      ]
    }
  ]
}