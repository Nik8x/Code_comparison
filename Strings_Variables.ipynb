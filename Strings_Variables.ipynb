{
 "cells": [
  {
   "cell_type": "code",
   "execution_count": 2,
   "metadata": {},
   "outputs": [
    {
     "data": {
      "text/plain": [
       "res0: Int = 5\n"
      ]
     },
     "execution_count": 2,
     "metadata": {},
     "output_type": "execute_result"
    }
   ],
   "source": [
    "5"
   ]
  },
  {
   "cell_type": "code",
   "execution_count": 3,
   "metadata": {},
   "outputs": [
    {
     "name": "stdout",
     "output_type": "stream",
     "text": [
      "5\n"
     ]
    }
   ],
   "source": [
    "println(5) // passing the number"
   ]
  },
  {
   "cell_type": "code",
   "execution_count": 4,
   "metadata": {},
   "outputs": [
    {
     "name": "stdout",
     "output_type": "stream",
     "text": [
      "(2,7,20,7)\n"
     ]
    }
   ],
   "source": [
    "println(1 + 1, 8 - 1, 10 * 2, 35 / 5) // Math is what you would expect"
   ]
  },
  {
   "cell_type": "code",
   "execution_count": 5,
   "metadata": {},
   "outputs": [],
   "source": [
    "// Integer division rounds down for both positive and negative numbers\n",
    "// println(5.0 / 3, -5 / 3, 5.0 / 3.0, -5.0 / 3.0)"
   ]
  },
  {
   "cell_type": "code",
   "execution_count": 7,
   "metadata": {},
   "outputs": [
    {
     "name": "stdout",
     "output_type": "stream",
     "text": [
      "3.3333333333333335\n",
      "1\n"
     ]
    }
   ],
   "source": [
    "// The result of division is always a float\n",
    "println(10.0 / 3)\n",
    "\n",
    "println(7 % 3) // Modulo operation"
   ]
  },
  {
   "cell_type": "code",
   "execution_count": 8,
   "metadata": {},
   "outputs": [
    {
     "name": "stdout",
     "output_type": "stream",
     "text": [
      "8.0\n",
      "8\n"
     ]
    }
   ],
   "source": [
    "println(math.pow(2,3)) // Exponentiation (x^y, x to the yth power)\n",
    "\n",
    "println((1 + 3) * 2) // # Enforce precedence with parentheses"
   ]
  },
  {
   "cell_type": "code",
   "execution_count": 9,
   "metadata": {},
   "outputs": [
    {
     "name": "stdout",
     "output_type": "stream",
     "text": [
      "apple\n"
     ]
    }
   ],
   "source": [
    "println(\"apple\")\n",
    "\n",
    "// println('apple') // single quote is not supported"
   ]
  },
  {
   "cell_type": "code",
   "execution_count": 10,
   "metadata": {},
   "outputs": [
    {
     "name": "stdout",
     "output_type": "stream",
     "text": [
      "a\n",
      "i ate apple\n",
      "i haven't done it\n",
      "He said, \"i am happy.\" \n",
      "He said, \"He's not happy.\" \n",
      "He said, \"He's not happy.\"\n"
     ]
    }
   ],
   "source": [
    "println('a') // single quote supported for single character\n",
    "\n",
    "println(\"i ate apple\")\n",
    "\n",
    "println(\"i haven't done it\")\n",
    "\n",
    "println(\"\"\"He said, \"i am happy.\" \"\"\")\n",
    "\n",
    "println(\"\"\"He said, \"He's not happy.\" \"\"\")\n",
    "\n",
    "println(\"He said, \\\"He\\'s not happy.\\\"\")"
   ]
  },
  {
   "cell_type": "code",
   "execution_count": 11,
   "metadata": {},
   "outputs": [
    {
     "name": "stdout",
     "output_type": "stream",
     "text": [
      "10\n"
     ]
    },
    {
     "data": {
      "text/plain": [
       "a: Int = 10\n"
      ]
     },
     "execution_count": 11,
     "metadata": {},
     "output_type": "execute_result"
    }
   ],
   "source": [
    "// val declarations are immutable, whereas vars are mutable. \n",
    "val a = 10\n",
    "println(a)"
   ]
  },
  {
   "cell_type": "code",
   "execution_count": 12,
   "metadata": {},
   "outputs": [
    {
     "name": "stdout",
     "output_type": "stream",
     "text": [
      "int\n"
     ]
    }
   ],
   "source": [
    "println(a.getClass.getSimpleName)"
   ]
  },
  {
   "cell_type": "code",
   "execution_count": 13,
   "metadata": {},
   "outputs": [
    {
     "name": "stdout",
     "output_type": "stream",
     "text": [
      "(apple,String)\n"
     ]
    },
    {
     "data": {
      "text/plain": [
       "fruit: String = apple\r\n",
       "string: String = I bought\n"
      ]
     },
     "execution_count": 13,
     "metadata": {},
     "output_type": "execute_result"
    }
   ],
   "source": [
    "var fruit = \"apple\"\n",
    "var string = \"I bought\"\n",
    "\n",
    "println(fruit, fruit.getClass.getSimpleName)"
   ]
  },
  {
   "cell_type": "code",
   "execution_count": 14,
   "metadata": {},
   "outputs": [
    {
     "name": "stdout",
     "output_type": "stream",
     "text": [
      "I bought\n",
      "(I bought,apple)\n",
      "(I bought,10,apple)\n",
      "I boughtapple\n",
      "I bought10apple\n"
     ]
    }
   ],
   "source": [
    "println(string)\n",
    "\n",
    "println(string, fruit)\n",
    "\n",
    "println(string, a, fruit)\n",
    "\n",
    "println(string + fruit)\n",
    "\n",
    "println(string + a + fruit) //we can concatenate string and int"
   ]
  },
  {
   "cell_type": "code",
   "execution_count": 15,
   "metadata": {},
   "outputs": [
    {
     "name": "stdout",
     "output_type": "stream",
     "text": [
      " \n",
      "I bought apple\n",
      "I bought3apple\n",
      "I bought3 apple\n",
      "I bought 3 apple\n",
      "I bought 3 apple\n",
      "I bought 10 apple\n"
     ]
    }
   ],
   "source": [
    "println(' ')\n",
    "println(string + ' ' + fruit)\n",
    "println(string + '3' + fruit)\n",
    "println(string + '3' + ' ' + fruit)\n",
    "println(string + ' ' + '3' + ' ' + fruit)\n",
    "println(string + \" 3 \" + fruit)\n",
    "println(string + ' ' + a.toString + ' ' + fruit)"
   ]
  },
  {
   "cell_type": "code",
   "execution_count": 16,
   "metadata": {},
   "outputs": [
    {
     "name": "stdout",
     "output_type": "stream",
     "text": [
      "String\n"
     ]
    }
   ],
   "source": [
    "println(a.toString.getClass.getSimpleName)"
   ]
  },
  {
   "cell_type": "code",
   "execution_count": null,
   "metadata": {},
   "outputs": [],
   "source": []
  }
 ],
 "metadata": {
  "kernelspec": {
   "display_name": "spylon-kernel",
   "language": "scala",
   "name": "spylon-kernel"
  },
  "language_info": {
   "codemirror_mode": "text/x-scala",
   "file_extension": ".scala",
   "help_links": [
    {
     "text": "MetaKernel Magics",
     "url": "https://metakernel.readthedocs.io/en/latest/source/README.html"
    }
   ],
   "mimetype": "text/x-scala",
   "name": "scala",
   "pygments_lexer": "scala",
   "version": "0.4.1"
  }
 },
 "nbformat": 4,
 "nbformat_minor": 2
}
